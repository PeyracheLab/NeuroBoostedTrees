{
 "cells": [
  {
   "cell_type": "markdown",
   "metadata": {
    "deletable": true,
    "editable": true
   },
   "source": [
    "# NeuroBoostedTrees\n",
    "\n",
    "This notebook illustrates the analyses presented in the following paper:\n",
    "\"Resolving neuronal population code and  coordination with gradient boosted trees, Viejo et al, 2017\"\n",
    "\n",
    "We made an extensive use of [XGBoost][3] for analysing head-direction data.\n",
    "\n",
    "This work is the follow-up of a previously published paper: \"[Modern machine learning far outperforms GLMs at predicting spikes, Benjamin et al, 2017][2]\".\n",
    "\n",
    "The dataset for this tutorial can be found [here.][1]\n",
    "\n",
    "We present two of our analyses: prediction scoring of spiking activity in relation to behaviour and dissectiong of the gradient boosted tree branching after learning (i.e. the splitting positions and gains). All the Python code used for the manuscript can be found [here][4] (or you can send us a message). Sorry, still a bit messy, but we're working on it! \n",
    "\n",
    " \n",
    "## Table of content\n",
    "\n",
    "I. Predicting firing rate as a function of head-direction\n",
    "    1. Loading data\n",
    "    2. Integrating data into Panda framework\n",
    "    3. Prediction score functions and cross validations\n",
    "    4. Definitions of the learners\n",
    "    5. Supervised learning\n",
    "    \n",
    "II. Analysing the tree structure\n",
    "    1. Extracting tree threshold from XGB\n",
    "    2. Learning XGB examples\n",
    "    3. Tuning curves\n",
    "    4. Extracting tree structure\n",
    "    5. Correlation with Fisher Information\n",
    "    \n",
    "III. Miscellaneous\n",
    "    1. Computing the gain    \n",
    "    \n",
    "## Dependencies\n",
    "\n",
    "Basics\n",
    " - matplotlib\n",
    " - numpy\n",
    " - pandas\n",
    " - scipy\n",
    " - warnings\n",
    " - itertools\n",
    " \n",
    "Methods\n",
    " - xgboost\n",
    " \n",
    "\n",
    "[1]:www.peyrachelab.com/data/data_test_boosted_tree_20ms.mat\n",
    "[2]:http://biorxiv.org/content/early/2017/02/24/111450\n",
    "[3]:http://xgboost.readthedocs.io/en/latest/\n",
    "[4]:https://github.com/gviejo/Prediction_xgb_head_direction"
   ]
  },
  {
   "cell_type": "code",
   "execution_count": 1,
   "metadata": {
    "collapsed": true,
    "deletable": true,
    "editable": true
   },
   "outputs": [],
   "source": [
    "import warnings\n",
    "import pandas as pd\n",
    "import scipy.io\n",
    "import numpy as np\n",
    "import sys, os\n",
    "import itertools\n"
   ]
  },
  {
   "cell_type": "markdown",
   "metadata": {
    "deletable": true,
    "editable": true
   },
   "source": [
    "\n",
    "## I. Predicting firing rate as a function of head-direction\n",
    "\n",
    "### 1. Loading data\n",
    "\n",
    "First, a dictionnary of array is loaded.\n",
    "Keys are :\n",
    "    - 'Ang'   : head-direction (an angular value)\n",
    "    - 'X'     : x position \n",
    "    - 'Y'     : y position\n",
    "    - 'ADn'   : Antero-dorsal nucleus spiking activity (17 neurons)\n",
    "    - 'Pos'   : Post-subiculum spiking activity (15 neurons)\n",
    "    - 'speed' : animal speed"
   ]
  },
  {
   "cell_type": "code",
   "execution_count": 2,
   "metadata": {
    "collapsed": false,
    "deletable": true,
    "editable": true
   },
   "outputs": [
    {
     "name": "stdout",
     "output_type": "stream",
     "text": [
      "['Ang', 'Pos', '__header__', '__globals__', 'ADn', 'Y', 'X', '__version__', 'speed']\n"
     ]
    }
   ],
   "source": [
    "#head direction data\n",
    "hd_data = scipy.io.loadmat('../python/data_test_boosted_tree_20ms.mat') # 20 ms is the size of the time bin\n",
    "print(hd_data.keys())\n"
   ]
  },
  {
   "cell_type": "markdown",
   "metadata": {
    "deletable": true,
    "editable": true
   },
   "source": [
    "### 2. Integrating data into Panda framework\n",
    "\n",
    "Pandas makes life much easier when dealing with different subgroups of features. It allows to retrieve quickly time series.\n",
    "Neurons are ordered based on their tuning curves (from 0 to 2pi). In Pandas, their name reflects their order ['ADn.0', 'ADn.1', 'ADn.2', ...].\n"
   ]
  },
  {
   "cell_type": "code",
   "execution_count": 3,
   "metadata": {
    "collapsed": false,
    "deletable": true,
    "editable": true,
    "scrolled": true
   },
   "outputs": [
    {
     "name": "stdout",
     "output_type": "stream",
     "text": [
      "Index([u'time', u'ang', u'x', u'y', u'vel', u'Pos.0', u'Pos.1', u'Pos.2',\n",
      "       u'Pos.3', u'Pos.4', u'Pos.5', u'Pos.6', u'Pos.7', u'Pos.8', u'Pos.9',\n",
      "       u'Pos.10', u'Pos.11', u'Pos.12', u'Pos.13', u'Pos.14', u'ADn.0',\n",
      "       u'ADn.1', u'ADn.2', u'ADn.3', u'ADn.4', u'ADn.5', u'ADn.6', u'ADn.7',\n",
      "       u'ADn.8', u'ADn.9', u'ADn.10', u'ADn.11', u'ADn.12', u'ADn.13',\n",
      "       u'ADn.14', u'ADn.15', u'ADn.16'],\n",
      "      dtype='object')\n"
     ]
    }
   ],
   "source": [
    "data            =   pd.DataFrame()\n",
    "data['time']    =   np.arange(len(hd_data['Ang']))     \n",
    "data['ang']     =   hd_data['Ang'].flatten()            \n",
    "data['x']       =   hd_data['X'].flatten()              \n",
    "data['y']       =   hd_data['Y'].flatten()              \n",
    "data['vel']     =   hd_data['speed'].flatten()\n",
    "# neurons activity \n",
    "for i in xrange(hd_data['Pos'].shape[1]): data['Pos'+'.'+str(i)] = hd_data['Pos'][:,i]\n",
    "for i in xrange(hd_data['ADn'].shape[1]): data['ADn'+'.'+str(i)] = hd_data['ADn'][:,i]\n",
    "\n",
    "print data.keys()"
   ]
  },
  {
   "cell_type": "markdown",
   "metadata": {
    "deletable": true,
    "editable": true
   },
   "source": [
    "### 3. Prediction score functions and cross validations"
   ]
  },
  {
   "cell_type": "markdown",
   "metadata": {
    "deletable": true,
    "editable": true
   },
   "source": [
    "This section requires Scikit-learn.\n"
   ]
  },
  {
   "cell_type": "code",
   "execution_count": 4,
   "metadata": {
    "collapsed": true,
    "deletable": true,
    "editable": true
   },
   "outputs": [],
   "source": [
    "from sklearn.model_selection import KFold\n",
    "\n",
    "def poisson_pseudoR2(y, yhat, ynull):\n",
    "    \"\"\" Compute the pseudo R2 score\n",
    "        y : real firing rate\n",
    "        yhat : predicted firing rate\n",
    "        ynull : mean of the real firing rate\n",
    "    \"\"\"    \n",
    "    yhat = yhat.reshape(y.shape)\n",
    "    eps = np.spacing(1)\n",
    "    L1 = np.sum(y*np.log(eps+yhat) - yhat)\n",
    "    L1_v = y*np.log(eps+yhat) - yhat\n",
    "    L0 = np.sum(y*np.log(eps+ynull) - ynull)\n",
    "    LS = np.sum(y*np.log(eps+y) - y)\n",
    "    R2 = 1-(LS-L1)/(LS-L0)\n",
    "    return R2\n",
    "\n",
    "def fit_cv(X, Y, algorithm, n_cv=10):\n",
    "    \"\"\"Performs cross-validated fitting. Returns (Y_hat, pR2_cv); a vector of predictions Y_hat with the\n",
    "    same dimensions as Y, and a list of pR2 scores on each fold pR2_cv.\n",
    "    X  = input data\n",
    "    Y = spiking data\n",
    "    algorithm = a function of (Xr, Yr, Xt) {training data Xr and response Yr and testing features Xt}\n",
    "                and returns the predicted response Yt\n",
    "    n_cv = number of cross-validations folds\n",
    "    \"\"\"\n",
    "    if np.ndim(X)==1:\n",
    "        X = np.transpose(np.atleast_2d(X))\n",
    "    cv_kf = KFold(n_splits=n_cv, shuffle=True, random_state=42)\n",
    "    skf  = cv_kf.split(X)\n",
    "    Y_hat=np.zeros(len(Y))\n",
    "    pR2_cv = list()\n",
    "    for idx_r, idx_t in skf:\n",
    "        Xr = X[idx_r, :]\n",
    "        Yr = Y[idx_r]\n",
    "        Xt = X[idx_t, :]\n",
    "        Yt = Y[idx_t]           \n",
    "        Yt_hat = eval(algorithm)(Xr, Yr, Xt)        \n",
    "        Y_hat[idx_t] = Yt_hat\n",
    "        pR2 = poisson_pseudoR2(Yt, Yt_hat, np.mean(Yr))\n",
    "        pR2_cv.append(pR2)\n",
    "\n",
    "    return Y_hat, pR2_cv\n"
   ]
  },
  {
   "cell_type": "markdown",
   "metadata": {
    "deletable": true,
    "editable": true
   },
   "source": [
    "### 4. Definitions of learners\n",
    "\n",
    "As in the paper, we define :\n",
    "    - xgb_run  : XGBoost \n",
    "    - mb       : the model-based tuning curves of the neuron\n",
    "    - lin_comb : a simple linear regression\n",
    "    - kernel   : the kernel model that transforms the angular feature into a combination of cosinus and sinus (and their harmonics)"
   ]
  },
  {
   "cell_type": "code",
   "execution_count": 5,
   "metadata": {
    "collapsed": true,
    "deletable": true,
    "editable": true
   },
   "outputs": [],
   "source": [
    "import xgboost as xgb\n",
    "from sklearn.linear_model import LinearRegression\n",
    "\n",
    "def xgb_run(Xr, Yr, Xt):\n",
    "    \"\"\" XGBoost model\n",
    "        Return the predicted firing rate\n",
    "    \"\"\"\n",
    "    params = {'objective': \"count:poisson\", #for poisson output\n",
    "    'eval_metric': \"poisson-nloglik\", #loglikelihood loss\n",
    "    'seed': 2925,\n",
    "    'silent': 1,\n",
    "    'learning_rate': 0.1,\n",
    "    'min_child_weight': 2, \n",
    "    # 'subsample': 0.6, \n",
    "    'max_depth': 5, \n",
    "    'gamma': 0.5\n",
    "    }    \n",
    "    dtrain = xgb.DMatrix(Xr, label=Yr)\n",
    "    dtest = xgb.DMatrix(Xt)\n",
    "    num_round = 100\n",
    "    bst = xgb.train(params, dtrain, num_round)\n",
    "    Yt = bst.predict(dtest)\n",
    "    return Yt\n",
    "\n",
    "def mb(Xr, Yr, Xt):\n",
    "    \"\"\" Compute the model-based tuning curve of the hd cells\n",
    "        And return the predicted firing rate        \n",
    "    \"\"\"\n",
    "    nb_bins = 60\n",
    "    bins = np.linspace(np.vstack((Xr, Xt)).min(), np.vstack((Xr, Xt)).max()+1e-8, nb_bins+1)\n",
    "    index = np.digitize(Xr, bins).flatten()    \n",
    "    tcurve = np.array([np.sum(Yr[index == i]) for i in xrange(1, nb_bins+1)])\n",
    "    occupancy = np.array([np.sum(index == i) for i in xrange(1, nb_bins+1)])\n",
    "    tcurve = (tcurve/occupancy)*40.0  \n",
    "    new_index = np.digitize(Xt, bins).flatten()    \n",
    "    return tcurve[new_index-1]/40.0 \n",
    "\n",
    "def lin_comb(Xr, Yr, Xt):\n",
    "    \"\"\" Linear model\n",
    "        Return the predicted firing rate\n",
    "    \"\"\"\n",
    "    lr = LinearRegression()\n",
    "    lr.fit(Xr, Yr)\n",
    "    Yt = lr.predict(Xt)    \n",
    "    #rectify outputs\n",
    "    Yt = np.maximum(Yt,np.zeros(Yt.shape))\n",
    "    return Yt \n",
    "\n",
    "def kernel(Xr, Yr, Xt):\n",
    "    \"\"\" Kernel model, cos and sin of the angle to the linear model\n",
    "        Return the predicted firing rate\n",
    "    \"\"\"\n",
    "    newX = np.zeros((Xr.shape[0], 12)) # up to six order    \n",
    "    newXt = np.zeros((Xt.shape[0], 12))\n",
    "    for i, j in zip(xrange(1,7), xrange(0, 12, 2)):\n",
    "        newX[:,j] = np.cos(i*Xr).flatten()\n",
    "        newX[:,j+1] = np.sin(i*Xr).flatten()\n",
    "        newXt[:,j] = np.cos(i*Xt).flatten()\n",
    "        newXt[:,j+1] = np.sin(i*Xt).flatten()\n",
    "    Yt = lin_comb(newX, Yr, newXt)    \n",
    "    return Yt"
   ]
  },
  {
   "cell_type": "markdown",
   "metadata": {
    "deletable": true,
    "editable": true
   },
   "source": [
    "### 5 Supervised learning\n",
    "\n",
    "The function test_features takes as argument a list of features and targets and runs the supervised learning procedure using cross-validation.\n"
   ]
  },
  {
   "cell_type": "code",
   "execution_count": 6,
   "metadata": {
    "collapsed": true,
    "deletable": true,
    "editable": true
   },
   "outputs": [],
   "source": [
    "def test_features(features, targets, learners):\n",
    "    '''\n",
    "    features : a list of features, for example ['ang', 'x', 'y']\n",
    "    targets :  the list of neurons to predict ['ADn.0', 'ADn.1']\n",
    "    learners : the list of model to use, for example ['xgb']        \n",
    "    Return : dictionnary with for each models the score PR2 and Yt_hat (the prediction of the firing rate)\n",
    "    '''\n",
    "    X = data[features].values\n",
    "    Y = data[targets].values    \n",
    "    output = {method:{'PR2':[],'Yt_hat':[]} for method in learners}\n",
    "    learners_ = list(learners)\n",
    "    for i in xrange(Y.shape[1]):\n",
    "        y = Y[:,i]        \n",
    "        for method in learners_:        \n",
    "            print('Running '+method+' to predict '+targets[i])                              \n",
    "            Yt_hat, PR2 = fit_cv(X, y, algorithm = method, n_cv=8)       \n",
    "            output[method]['Yt_hat'].append(Yt_hat)\n",
    "            output[method]['PR2'].append(PR2)           \n",
    "    for m in output.iterkeys():\n",
    "        output[m]['Yt_hat'] = np.array(output[m]['Yt_hat'])\n",
    "        output[m]['PR2'] = np.array(output[m]['PR2'])        \n",
    "    return output\n",
    "    "
   ]
  },
  {
   "cell_type": "markdown",
   "metadata": {
    "deletable": true,
    "editable": true
   },
   "source": [
    " The combinations to be learned are defined here in a dictionnary."
   ]
  },
  {
   "cell_type": "code",
   "execution_count": 7,
   "metadata": {
    "collapsed": false,
    "deletable": true,
    "editable": true,
    "scrolled": true
   },
   "outputs": [
    {
     "name": "stdout",
     "output_type": "stream",
     "text": [
      "{'features': ['ang'], 'targets': ['ADn.0', 'ADn.1', 'ADn.2', 'ADn.3', 'ADn.4', 'ADn.5', 'ADn.6', 'ADn.7', 'ADn.8', 'ADn.9', 'ADn.10', 'ADn.11', 'ADn.12', 'ADn.13', 'ADn.14', 'ADn.15', 'ADn.16']}\n",
      "{'features': ['ang'], 'targets': ['Pos.0', 'Pos.1', 'Pos.2', 'Pos.3', 'Pos.4', 'Pos.5', 'Pos.6', 'Pos.7', 'Pos.8', 'Pos.9', 'Pos.10', 'Pos.11', 'Pos.12', 'Pos.13', 'Pos.14']}\n"
     ]
    }
   ],
   "source": [
    "combination = {\n",
    "    'Pos':  {\n",
    "            'features'  :   ['ang'],\n",
    "            'targets'   :   [i for i in list(data) if i.split(\".\")[0] == 'Pos'], \n",
    "            },          \n",
    "    'ADn':  {\n",
    "            'features'  :   ['ang'],\n",
    "            'targets'   :   [i for i in list(data) if i.split(\".\")[0] == 'ADn'],\n",
    "            }\n",
    "}\n",
    "print(combination['ADn'])\n",
    "print(combination['Pos'])\n"
   ]
  },
  {
   "cell_type": "markdown",
   "metadata": {
    "deletable": true,
    "editable": true
   },
   "source": [
    "- The main loop"
   ]
  },
  {
   "cell_type": "code",
   "execution_count": 8,
   "metadata": {
    "collapsed": false,
    "deletable": true,
    "editable": true
   },
   "outputs": [
    {
     "name": "stdout",
     "output_type": "stream",
     "text": [
      "Running mb to predict ADn.0\n",
      "Running xgb_run to predict ADn.0\n",
      "Running lin_comb to predict ADn.0\n",
      "Running kernel to predict ADn.0\n",
      "Running mb to predict ADn.1\n",
      "Running xgb_run to predict ADn.1\n",
      "Running lin_comb to predict ADn.1\n",
      "Running kernel to predict ADn.1\n",
      "Running mb to predict ADn.2\n",
      "Running xgb_run to predict ADn.2\n",
      "Running lin_comb to predict ADn.2\n",
      "Running kernel to predict ADn.2\n",
      "Running mb to predict ADn.3\n",
      "Running xgb_run to predict ADn.3\n",
      "Running lin_comb to predict ADn.3\n",
      "Running kernel to predict ADn.3\n",
      "Running mb to predict ADn.4\n",
      "Running xgb_run to predict ADn.4\n",
      "Running lin_comb to predict ADn.4\n",
      "Running kernel to predict ADn.4\n",
      "Running mb to predict ADn.5\n",
      "Running xgb_run to predict ADn.5\n",
      "Running lin_comb to predict ADn.5\n",
      "Running kernel to predict ADn.5\n",
      "Running mb to predict ADn.6\n",
      "Running xgb_run to predict ADn.6\n",
      "Running lin_comb to predict ADn.6\n",
      "Running kernel to predict ADn.6\n",
      "Running mb to predict ADn.7\n",
      "Running xgb_run to predict ADn.7\n",
      "Running lin_comb to predict ADn.7\n",
      "Running kernel to predict ADn.7\n",
      "Running mb to predict ADn.8\n",
      "Running xgb_run to predict ADn.8\n",
      "Running lin_comb to predict ADn.8\n",
      "Running kernel to predict ADn.8\n",
      "Running mb to predict ADn.9\n",
      "Running xgb_run to predict ADn.9\n",
      "Running lin_comb to predict ADn.9\n",
      "Running kernel to predict ADn.9\n",
      "Running mb to predict ADn.10\n",
      "Running xgb_run to predict ADn.10\n",
      "Running lin_comb to predict ADn.10\n",
      "Running kernel to predict ADn.10\n",
      "Running mb to predict ADn.11\n",
      "Running xgb_run to predict ADn.11\n",
      "Running lin_comb to predict ADn.11\n",
      "Running kernel to predict ADn.11\n",
      "Running mb to predict ADn.12\n",
      "Running xgb_run to predict ADn.12\n",
      "Running lin_comb to predict ADn.12\n",
      "Running kernel to predict ADn.12\n",
      "Running mb to predict ADn.13\n",
      "Running xgb_run to predict ADn.13\n",
      "Running lin_comb to predict ADn.13\n",
      "Running kernel to predict ADn.13\n",
      "Running mb to predict ADn.14\n",
      "Running xgb_run to predict ADn.14\n",
      "Running lin_comb to predict ADn.14\n",
      "Running kernel to predict ADn.14\n",
      "Running mb to predict ADn.15\n",
      "Running xgb_run to predict ADn.15\n",
      "Running lin_comb to predict ADn.15\n",
      "Running kernel to predict ADn.15\n",
      "Running mb to predict ADn.16\n",
      "Running xgb_run to predict ADn.16\n",
      "Running lin_comb to predict ADn.16\n",
      "Running kernel to predict ADn.16\n",
      "Running mb to predict Pos.0\n",
      "Running xgb_run to predict Pos.0\n",
      "Running lin_comb to predict Pos.0\n",
      "Running kernel to predict Pos.0\n",
      "Running mb to predict Pos.1\n",
      "Running xgb_run to predict Pos.1\n",
      "Running lin_comb to predict Pos.1\n",
      "Running kernel to predict Pos.1\n",
      "Running mb to predict Pos.2\n",
      "Running xgb_run to predict Pos.2\n",
      "Running lin_comb to predict Pos.2\n",
      "Running kernel to predict Pos.2\n",
      "Running mb to predict Pos.3\n",
      "Running xgb_run to predict Pos.3\n",
      "Running lin_comb to predict Pos.3\n",
      "Running kernel to predict Pos.3\n",
      "Running mb to predict Pos.4\n",
      "Running xgb_run to predict Pos.4\n",
      "Running lin_comb to predict Pos.4\n",
      "Running kernel to predict Pos.4\n",
      "Running mb to predict Pos.5\n",
      "Running xgb_run to predict Pos.5\n",
      "Running lin_comb to predict Pos.5\n",
      "Running kernel to predict Pos.5\n",
      "Running mb to predict Pos.6\n",
      "Running xgb_run to predict Pos.6\n",
      "Running lin_comb to predict Pos.6\n",
      "Running kernel to predict Pos.6\n",
      "Running mb to predict Pos.7\n",
      "Running xgb_run to predict Pos.7\n",
      "Running lin_comb to predict Pos.7\n",
      "Running kernel to predict Pos.7\n",
      "Running mb to predict Pos.8\n",
      "Running xgb_run to predict Pos.8\n",
      "Running lin_comb to predict Pos.8\n",
      "Running kernel to predict Pos.8\n",
      "Running mb to predict Pos.9\n",
      "Running xgb_run to predict Pos.9\n",
      "Running lin_comb to predict Pos.9\n",
      "Running kernel to predict Pos.9\n",
      "Running mb to predict Pos.10\n",
      "Running xgb_run to predict Pos.10\n",
      "Running lin_comb to predict Pos.10\n",
      "Running kernel to predict Pos.10\n",
      "Running mb to predict Pos.11\n",
      "Running xgb_run to predict Pos.11\n",
      "Running lin_comb to predict Pos.11\n",
      "Running kernel to predict Pos.11\n",
      "Running mb to predict Pos.12\n",
      "Running xgb_run to predict Pos.12\n",
      "Running lin_comb to predict Pos.12\n",
      "Running kernel to predict Pos.12\n",
      "Running mb to predict Pos.13\n",
      "Running xgb_run to predict Pos.13\n",
      "Running lin_comb to predict Pos.13\n",
      "Running kernel to predict Pos.13\n",
      "Running mb to predict Pos.14\n",
      "Running xgb_run to predict Pos.14\n",
      "Running lin_comb to predict Pos.14\n",
      "Running kernel to predict Pos.14\n"
     ]
    }
   ],
   "source": [
    "methods = ['mb', 'xgb_run', 'lin_comb', 'kernel']\n",
    "final_data = {}\n",
    "for g in np.sort(combination.keys()):\n",
    "    features = combination[g]['features']\n",
    "    targets = combination[g]['targets'] \n",
    "    results = test_features(features, targets, methods)        \n",
    "    final_data[g] = results\n",
    "    "
   ]
  },
  {
   "cell_type": "markdown",
   "metadata": {
    "deletable": true,
    "editable": true
   },
   "source": [
    "- Let's plot the result for this dataset"
   ]
  },
  {
   "cell_type": "code",
   "execution_count": 9,
   "metadata": {
    "collapsed": false,
    "deletable": true,
    "editable": true,
    "scrolled": true
   },
   "outputs": [
    {
     "data": {
      "image/png": "[encoded data removed]",
      "text/plain": [
       "<matplotlib.figure.Figure at 0x7f0e07365dd0>"
      ]
     },
     "metadata": {},
     "output_type": "display_data"
    }
   ],
   "source": [
    "from matplotlib.pyplot import *\n",
    "\n",
    "methods_to_plot = ['mb', 'xgb_run', 'lin_comb', 'kernel']\n",
    "labels = {  'mb':'MB \\n 60 bins', \n",
    "            'lin_comb':'Linear', \n",
    "            'nn':'NN', \n",
    "            'xgb_run':\"$\\mathbf{XGB}$\",\n",
    "            'h1':\"Linear \\n (cos$\\\\theta$, sin$\\\\theta$)\",\n",
    "            'kernel':\"$6^{rd}$ order \\n kernel\"}\n",
    "labels_plot = [labels[m] for m in methods_to_plot]\n",
    "mean_pR2 = list()\n",
    "sem_pR2 = list()\n",
    "for model in methods_to_plot:\n",
    "    PR2_art = final_data['ADn'][model]['PR2']\n",
    "    mean_pR2.append(np.mean(PR2_art))\n",
    "    sem_pR2.append(np.std(PR2_art)/np.sqrt(np.size(PR2_art)))        \n",
    "bar(np.arange(np.size(mean_pR2)), mean_pR2, 0.4, align='center',\n",
    "        ecolor='k', alpha=1, color='#EE6C4D', ec='w', yerr=np.array(sem_pR2), label = 'Antero-dorsal nucleus')\n",
    "plot(np.arange(np.size(mean_pR2)), mean_pR2, 'k.', markersize=5)\n",
    "mean_pR2 = list()\n",
    "sem_pR2 = list()\n",
    "for model in methods_to_plot:\n",
    "    PR2_art = final_data['Pos'][model]['PR2']\n",
    "    mean_pR2.append(np.mean(PR2_art))\n",
    "    sem_pR2.append(np.std(PR2_art)/np.sqrt(np.size(PR2_art)))\n",
    "bar(np.arange(np.size(mean_pR2))+0.405, mean_pR2, 0.4, align='center',\n",
    "        ecolor='k', alpha=1, color='#3D5A80', ec='w', yerr=np.array(sem_pR2), label = 'Post-subiculum')\n",
    "plot(np.arange(np.size(mean_pR2))+0.41, mean_pR2, 'k.', markersize=5)\n",
    "plot([-1, len(methods_to_plot)], [0,0],'--k', alpha=0.4)\n",
    "legend(loc='upper center', ncol=2, frameon = False)\n",
    "xlim(-0.5,)\n",
    "ylim(-0.2, 0.9)\n",
    "xticks(np.arange(np.size(mean_pR2))+0.205, labels_plot)\n",
    "ylabel(\"$Pseudo-R^2$\")\n",
    "\n",
    "show()"
   ]
  },
  {
   "cell_type": "markdown",
   "metadata": {
    "deletable": true,
    "editable": true
   },
   "source": [
    "## II. ANALYSING SPLIT POSITIONS\n",
    "\n",
    "Using the same dataset, we will now look at the positions of splits within the tuning curve of one neuron from ADn and one neuron from PoSub."
   ]
  },
  {
   "cell_type": "markdown",
   "metadata": {
    "deletable": true,
    "editable": true
   },
   "source": [
    "### 1. Extracting tree thresholds from XGB\n",
    "\n",
    "By default, XGB returns a list of tree as strings. To extract the split positions, one needs to parse the string first. That is the purpose of the function extract_tree_threshold that takes as input the booster. \n",
    "Here, we also define fisher_information which takes as input the tuning curve.\n",
    "\n",
    "This section requires graphviz.\n",
    "\n"
   ]
  },
  {
   "cell_type": "code",
   "execution_count": 10,
   "metadata": {
    "collapsed": true,
    "deletable": true,
    "editable": true
   },
   "outputs": [],
   "source": [
    "def extract_tree_threshold(trees):\n",
    "    \"\"\" Take BST TREE and return a dict = {features index : [splits position 1, splits position 2, ...]}\n",
    "    \"\"\"\n",
    "    n = len(trees.get_dump())\n",
    "    thr = {}\n",
    "    for t in xrange(n):\n",
    "        gv = xgb.to_graphviz(trees, num_trees=t)\n",
    "        body = gv.body\t\t\n",
    "        for i in xrange(len(body)):\n",
    "            for l in body[i].split('\"'):\n",
    "                if 'f' in l and '<' in l:\n",
    "                    tmp = l.split(\"<\")\n",
    "                    if thr.has_key(tmp[0]):\n",
    "                        thr[tmp[0]].append(float(tmp[1]))\n",
    "                    else:\n",
    "                        thr[tmp[0]] = [float(tmp[1])]\n",
    "    for k in thr.iterkeys():\n",
    "        thr[k] = np.sort(np.array(thr[k]))\n",
    "    return thr\n",
    "\n",
    "\n",
    "def fisher_information(x, f):\n",
    "    \"\"\" Compute Fisher Information over the tuning curves\n",
    "        x : array of angular position\n",
    "        f : firing rate\n",
    "        return (angular position, fisher information)\n",
    "    \"\"\"\n",
    "    fish = np.zeros(len(f)-1)\n",
    "    slopes_ = []\n",
    "    tmpf = np.hstack((f[-1],f,f[0:3]))\n",
    "    binsize = x[1]-x[0]\t\n",
    "    tmpx = np.hstack((np.array([x[0]-binsize-(x.min()+(2*np.pi-x.max()))]),x,np.array([x[-1]+i*binsize+(x.min()+(2*np.pi-x.max())) for i in xrange(1,4)])))\t\t\n",
    "    for i in xrange(len(f)):\n",
    "        slope, intercept, r_value, p_value, std_err = scipy.stats.linregress(tmpx[i:i+3], tmpf[i:i+3])\n",
    "        slopes_.append(slope)\n",
    "    fish = np.power(slopes_, 2)\n",
    "    fish = fish/(f+1e-4)\n",
    "    return (x, fish)\n"
   ]
  },
  {
   "cell_type": "markdown",
   "metadata": {
    "deletable": true,
    "editable": true
   },
   "source": [
    "Let's define new combinations."
   ]
  },
  {
   "cell_type": "code",
   "execution_count": 11,
   "metadata": {
    "collapsed": true,
    "deletable": true,
    "editable": true
   },
   "outputs": [],
   "source": [
    "combination = {\n",
    "    'ang':{\n",
    "        'ADn':{\n",
    "            'features' \t:\t['ang'],\n",
    "            'targets'\t:\t['ADn.8']\n",
    "                },\n",
    "        'Pos':\t{\n",
    "            'features' \t:\t['ang'],\n",
    "            'targets'\t:\t['Pos.9']\n",
    "                },\n",
    "        },\n",
    "    }"
   ]
  },
  {
   "cell_type": "markdown",
   "metadata": {
    "deletable": true,
    "editable": true
   },
   "source": [
    "### 2. Learning XGB examples\n",
    "\n",
    "Each booster is saved in the dictionnary bsts."
   ]
  },
  {
   "cell_type": "code",
   "execution_count": 12,
   "metadata": {
    "collapsed": false,
    "deletable": true,
    "editable": true
   },
   "outputs": [
    {
     "name": "stdout",
     "output_type": "stream",
     "text": [
      "Learning ADn.8 from feature ang\n",
      "Learning Pos.9 from feature ang\n",
      "['ang']\n"
     ]
    }
   ],
   "source": [
    "params = {'objective': \"count:poisson\", #for poisson output\n",
    "    'eval_metric': \"logloss\", #loglikelihood loss\n",
    "    'seed': 2925, #for reproducibility\n",
    "    'silent': 1,\n",
    "    'learning_rate': 0.01,\n",
    "    'min_child_weight': 2,\n",
    "    'max_depth': 5}        \n",
    "\n",
    "num_round = 30\n",
    "bsts = {}\n",
    "for i in combination.iterkeys():    \n",
    "    bsts[i] = {}\n",
    "    for j in combination[i].iterkeys():        \n",
    "        features = combination[i][j]['features']\n",
    "        targets = combination[i][j]['targets']\n",
    "        print(\"Learning \"+targets[0]+\" from feature \"+features[0])\n",
    "        X = data[features].values\n",
    "        Yall = data[targets].values\n",
    "        for k in xrange(Yall.shape[1]):\n",
    "            dtrain = xgb.DMatrix(X, label=Yall[:,k])\n",
    "            bst = xgb.train(params, dtrain, num_round)\n",
    "            bsts[i][j] = bst\n",
    "\n",
    "print(bsts.keys())"
   ]
  },
  {
   "cell_type": "markdown",
   "metadata": {
    "deletable": true,
    "editable": true
   },
   "source": [
    "### 3. Tuning curves\n",
    "\n",
    "By default, tuning curves are built over 60 angular bins."
   ]
  },
  {
   "cell_type": "code",
   "execution_count": 13,
   "metadata": {
    "collapsed": true,
    "deletable": true,
    "editable": true
   },
   "outputs": [],
   "source": [
    "def tuning_curve(x, f, nb_bins, tau = 40.0):\n",
    "    bins = np.linspace(x.min(), x.max()+1e-8, nb_bins+1)\n",
    "    index = np.digitize(x, bins).flatten()    \n",
    "    tcurve = np.array([np.sum(f[index == i]) for i in xrange(1, nb_bins+1)])\n",
    "    occupancy = np.array([np.sum(index == i) for i in xrange(1, nb_bins+1)])\n",
    "    tcurve = (tcurve/occupancy)*tau\n",
    "    x = bins[0:-1] + (bins[1]-bins[0])/2.\n",
    "    return (x, tcurve)\n",
    "\n",
    "X = data['ang'].values\n",
    "example = [combination['ang'][k]['targets'][0] for k in ['ADn', 'Pos']]\n",
    "tuningc = {}\n",
    "for k in example:\n",
    "    Y = data[k].values\n",
    "    tuningc[k.split(\".\")[0]] = tuning_curve(X, Y, nb_bins = 60)\n",
    "    \n"
   ]
  },
  {
   "cell_type": "markdown",
   "metadata": {
    "deletable": true,
    "editable": true
   },
   "source": [
    "- Let's plot the two tuning curves."
   ]
  },
  {
   "cell_type": "code",
   "execution_count": 14,
   "metadata": {
    "collapsed": false,
    "deletable": true,
    "editable": true
   },
   "outputs": [
    {
     "data": {
      "image/png": "[encoded data removed]",
      "text/plain": [
       "<matplotlib.figure.Figure at 0x7f0e10a11fd0>"
      ]
     },
     "metadata": {},
     "output_type": "display_data"
    }
   ],
   "source": [
    "\n",
    "title_ = ['Antero-dorsal nucleus', 'Post-subiculum']\n",
    "colors_ = ['#EE6C4D', '#3D5A80']\n",
    "figure()\n",
    "limts = [(1.5,5),(0.7, 3.6)]\n",
    "\n",
    "e = 'ADn'\n",
    "i = 0\n",
    "plot(tuningc[e][0], tuningc[e][1], color = colors_[i], linewidth = 1.5)\n",
    "xlabel('Head-direction (rad)', labelpad = 0.0)\n",
    "ylabel('Firing rate (Hz)', labelpad = 2.1)\n",
    "locator_params(axis='y', nbins = 3)\n",
    "locator_params(axis='x', nbins = 4)\n",
    "title(title_[i], fontsize = 12)\n",
    "xlim(0, 2*np.pi)\n",
    "    \n",
    "show()"
   ]
  },
  {
   "cell_type": "code",
   "execution_count": 15,
   "metadata": {
    "collapsed": false,
    "deletable": true,
    "editable": true
   },
   "outputs": [
    {
     "data": {
      "image/png": "[encoded data removed]",
      "text/plain": [
       "<matplotlib.figure.Figure at 0x7f0e0737bd90>"
      ]
     },
     "metadata": {},
     "output_type": "display_data"
    }
   ],
   "source": [
    "figure()\n",
    "e = 'Pos'\n",
    "i = 1\n",
    "plot(tuningc[e][0], tuningc[e][1], color = colors_[i], linewidth = 1.5)\n",
    "xlabel('Head-direction (rad)', labelpad = 0.0)\n",
    "ylabel('Firing rate (Hz)', labelpad = 2.1)\n",
    "locator_params(axis='y', nbins = 3)\n",
    "locator_params(axis='x', nbins = 4)\n",
    "title(title_[i], fontsize = 12)\n",
    "xlim(0,2*np.pi)\n",
    "\n",
    "\n",
    "show()"
   ]
  },
  {
   "cell_type": "markdown",
   "metadata": {
    "deletable": true,
    "editable": true
   },
   "source": [
    "### 4. Extracting tree structure\n",
    "\n",
    "HEre, 'thresholds' is the dictionnary that contains the position of splits for the only feature we use: f0 (the head-direction). However, the function is generic enough to take multi-dimensional bosster as argument (e.g. f0, f1, f2, ...)."
   ]
  },
  {
   "cell_type": "code",
   "execution_count": 16,
   "metadata": {
    "collapsed": false,
    "deletable": true,
    "editable": true
   },
   "outputs": [
    {
     "name": "stdout",
     "output_type": "stream",
     "text": [
      "['ang']\n",
      "['ADn', 'Pos']\n",
      "['f0']\n",
      "628 splits\n"
     ]
    }
   ],
   "source": [
    "thresholds = {}\n",
    "for i in bsts.iterkeys():\n",
    "    thresholds[i] = {}\n",
    "    for j in bsts[i].iterkeys():\n",
    "        thresholds[i][j] = extract_tree_threshold(bsts[i][j])\n",
    "\n",
    "print(thresholds.keys())\n",
    "print(thresholds['ang'].keys())\n",
    "print(thresholds['ang']['ADn'].keys())\n",
    "print(len(thresholds['ang']['Pos']['f0'])), \"splits\"\n"
   ]
  },
  {
   "cell_type": "markdown",
   "metadata": {
    "deletable": true,
    "editable": true
   },
   "source": [
    "- Let's plot the tuning curves and the splits.\n"
   ]
  },
  {
   "cell_type": "code",
   "execution_count": 17,
   "metadata": {
    "collapsed": false,
    "deletable": true,
    "editable": true
   },
   "outputs": [
    {
     "data": {
      "image/png": "[encoded data removed]",
      "text/plain": [
       "<matplotlib.figure.Figure at 0x7f0dffdcc510>"
      ]
     },
     "metadata": {},
     "output_type": "display_data"
    }
   ],
   "source": [
    "e = 'ADn'\n",
    "i = 0\n",
    "plot(tuningc[e][0], tuningc[e][1], color = colors_[i], linewidth = 1.5)\n",
    "xlabel('Head-direction (rad)', labelpad = 0.0)\n",
    "ylabel('Firing rate (Hz)', labelpad = 2.1)\n",
    "locator_params(axis='y', nbins = 3)\n",
    "locator_params(axis='x', nbins = 4)\n",
    "title(title_[i], fontsize = 12)\n",
    "xlim(0, 2*np.pi)\n",
    "\n",
    "[axvline(l, alpha = 1, color = 'grey', linewidth = 0.5) for l in np.unique(thresholds['ang'][e]['f0'])]\n",
    "\n",
    "show()"
   ]
  },
  {
   "cell_type": "code",
   "execution_count": 18,
   "metadata": {
    "collapsed": false,
    "deletable": true,
    "editable": true
   },
   "outputs": [
    {
     "data": {
      "image/png": "[encoded data removed]",
      "text/plain": [
       "<matplotlib.figure.Figure at 0x7f0dffbaee10>"
      ]
     },
     "metadata": {},
     "output_type": "display_data"
    }
   ],
   "source": [
    "figure()\n",
    "e = 'Pos'\n",
    "i = 1\n",
    "plot(tuningc[e][0], tuningc[e][1], color = colors_[i], linewidth = 1.5)\n",
    "xlabel('Head-direction (rad)', labelpad = 0.0)\n",
    "ylabel('Firing rate (Hz)', labelpad = 2.1)\n",
    "locator_params(axis='y', nbins = 3)\n",
    "locator_params(axis='x', nbins = 4)\n",
    "title(title_[i], fontsize = 12)\n",
    "xlim(0,2*np.pi)\n",
    "\n",
    "[axvline(l, alpha = 1, color = 'grey', linewidth = 0.5) for l in np.unique(thresholds['ang'][e]['f0'])]\n",
    "\n",
    "\n",
    "show()"
   ]
  },
  {
   "cell_type": "markdown",
   "metadata": {
    "deletable": true,
    "editable": true
   },
   "source": [
    "### 5. Fisher Information"
   ]
  },
  {
   "cell_type": "code",
   "execution_count": 19,
   "metadata": {
    "collapsed": true,
    "deletable": true,
    "editable": true
   },
   "outputs": [],
   "source": [
    "adn_fisher = fisher_information(tuningc['ADn'][0], tuningc['ADn'][1])\n",
    "pos_fisher = fisher_information(tuningc['Pos'][0], tuningc['Pos'][1])\n",
    "\n"
   ]
  },
  {
   "cell_type": "markdown",
   "metadata": {
    "deletable": true,
    "editable": true
   },
   "source": [
    "- Let's plot the Fisher information"
   ]
  },
  {
   "cell_type": "code",
   "execution_count": 20,
   "metadata": {
    "collapsed": false,
    "deletable": true,
    "editable": true
   },
   "outputs": [
    {
     "data": {
      "image/png": "[encoded data removed]",
      "text/plain": [
       "<matplotlib.figure.Figure at 0x7f0dffbbb6d0>"
      ]
     },
     "metadata": {},
     "output_type": "display_data"
    }
   ],
   "source": [
    "e = 'ADn'\n",
    "i = 0\n",
    "plot(tuningc[e][0], tuningc[e][1], color = colors_[i], linewidth = 1.5)\n",
    "xlabel('Head-direction (rad)', labelpad = 0.0)\n",
    "ylabel('Firing rate (Hz)', labelpad = 2.1)\n",
    "locator_params(axis='y', nbins = 3)\n",
    "locator_params(axis='x', nbins = 4)\n",
    "title(title_[i], fontsize = 12)\n",
    "\n",
    "\n",
    "[axvline(l, alpha = 1, color = 'grey', linewidth = 0.5) for l in np.unique(thresholds['ang'][e]['f0'])]\n",
    "\n",
    "twinx()\n",
    "plot(adn_fisher[0], adn_fisher[1], '-', color = '#25393C', label = 'Fisher \\n Information', linewidth = 2.0)\n",
    "yticks([])\n",
    "xlim(0, 2*np.pi)\n",
    "legend(loc = 'best')\n",
    "\n",
    "show()"
   ]
  },
  {
   "cell_type": "code",
   "execution_count": 21,
   "metadata": {
    "collapsed": false,
    "deletable": true,
    "editable": true,
    "scrolled": true
   },
   "outputs": [
    {
     "data": {
      "image/png": "[encoded data removed]",
      "text/plain": [
       "<matplotlib.figure.Figure at 0x7f0dffbcbb90>"
      ]
     },
     "metadata": {},
     "output_type": "display_data"
    }
   ],
   "source": [
    "figure()\n",
    "e = 'Pos'\n",
    "i = 1\n",
    "plot(tuningc[e][0], tuningc[e][1], color = colors_[i], linewidth = 1.5)\n",
    "xlabel('Head-direction (rad)', labelpad = 0.0)\n",
    "ylabel('Firing rate (Hz)', labelpad = 2.1)\n",
    "locator_params(axis='y', nbins = 3)\n",
    "locator_params(axis='x', nbins = 4)\n",
    "title(title_[i], fontsize = 12)\n",
    "xlim(0,2*np.pi)\n",
    "\n",
    "[axvline(l, alpha = 1, color = 'grey', linewidth = 0.5) for l in np.unique(thresholds['ang'][e]['f0'])]\n",
    "\n",
    "twinx()\n",
    "plot(pos_fisher[0], pos_fisher[1], '-', color = '#25393C', label = 'Fisher \\n Information', linewidth = 2.0)\n",
    "yticks([])\n",
    "xlim(0, 2*np.pi)\n",
    "legend(loc = 'best')\n",
    "show()"
   ]
  },
  {
   "cell_type": "markdown",
   "metadata": {
    "deletable": true,
    "editable": true
   },
   "source": [
    "Et voila!"
   ]
  },
  {
   "cell_type": "markdown",
   "metadata": {
    "deletable": true,
    "editable": true
   },
   "source": [
    "## III. Miscellaneous\n",
    "\n",
    "### 1. Accessing the gain\n",
    "\n",
    "By default, XGB returns the average gain over one feature for all the trees. By multiplying by the number of splits for each feature, you get the total gain.\n",
    "\n",
    "- Let's define a new combination with head-direction and x,y positions and all the neurons from each group."
   ]
  },
  {
   "cell_type": "code",
   "execution_count": 22,
   "metadata": {
    "collapsed": false,
    "deletable": true,
    "editable": true
   },
   "outputs": [
    {
     "name": "stdout",
     "output_type": "stream",
     "text": [
      "{'ADn': {'features': ['ang', 'x', 'y'], 'targets': ['ADn.0', 'ADn.1', 'ADn.2', 'ADn.3', 'ADn.4', 'ADn.5', 'ADn.6', 'ADn.7', 'ADn.8', 'ADn.9', 'ADn.10', 'ADn.11', 'ADn.12', 'ADn.13', 'ADn.14', 'ADn.15', 'ADn.16']}, 'Pos': {'features': ['ang', 'x', 'y'], 'targets': ['Pos.0', 'Pos.1', 'Pos.2', 'Pos.3', 'Pos.4', 'Pos.5', 'Pos.6', 'Pos.7', 'Pos.8', 'Pos.9', 'Pos.10', 'Pos.11', 'Pos.12', 'Pos.13', 'Pos.14']}}\n"
     ]
    }
   ],
   "source": [
    "combination = {\n",
    "    'ADn':    {\n",
    "            'features'  :   ['ang', 'x', 'y'],\n",
    "            'targets'   :   [i for i in list(data) if i.split(\".\")[0] == 'ADn']\n",
    "        },\n",
    "    'Pos':    {\n",
    "            'features'  :   ['ang', 'x', 'y'],\n",
    "            'targets'   :   [i for i in list(data) if i.split(\".\")[0] == 'Pos']\n",
    "        },  \n",
    "}\n",
    "print combination"
   ]
  },
  {
   "cell_type": "markdown",
   "metadata": {
    "deletable": true,
    "editable": true
   },
   "source": [
    "- Let's learn the booster for each combination."
   ]
  },
  {
   "cell_type": "code",
   "execution_count": 23,
   "metadata": {
    "collapsed": false,
    "deletable": true,
    "editable": true
   },
   "outputs": [
    {
     "name": "stdout",
     "output_type": "stream",
     "text": [
      "ADn ADn.0\n",
      "ADn ADn.1\n",
      "ADn ADn.2\n",
      "ADn ADn.3\n",
      "ADn ADn.4\n",
      "ADn ADn.5\n",
      "ADn ADn.6\n",
      "ADn ADn.7\n",
      "ADn ADn.8\n",
      "ADn ADn.9\n",
      "ADn ADn.10\n",
      "ADn ADn.11\n",
      "ADn ADn.12\n",
      "ADn ADn.13\n",
      "ADn ADn.14\n",
      "ADn ADn.15\n",
      "ADn ADn.16\n",
      "Pos Pos.0\n",
      "Pos Pos.1\n",
      "Pos Pos.2\n",
      "Pos Pos.3\n",
      "Pos Pos.4\n",
      "Pos Pos.5\n",
      "Pos Pos.6\n",
      "Pos Pos.7\n",
      "Pos Pos.8\n",
      "Pos Pos.9\n",
      "Pos Pos.10\n",
      "Pos Pos.11\n",
      "Pos Pos.12\n",
      "Pos Pos.13\n",
      "Pos Pos.14\n"
     ]
    }
   ],
   "source": [
    "params = {'objective': \"count:poisson\", #for poisson output\n",
    "    'eval_metric': \"poisson-nloglik\", #loglikelihood loss\n",
    "    'seed': 2925, #for reproducibility\n",
    "    'silent': 1,\n",
    "    'learning_rate': 0.1,\n",
    "    'min_child_weight': 2, \n",
    "    'n_estimators': 30,\n",
    "    # 'subsample': 0.5, \n",
    "    'max_depth': 5, \n",
    "    'gamma': 0.5}        \n",
    "\n",
    "num_round = 30\n",
    "bsts = {}\n",
    "for k in combination.keys():\n",
    "    features = combination[k]['features']\n",
    "    targets = combination[k]['targets'] \n",
    "    X = data[features].values\n",
    "    Yall = data[targets].values \n",
    "    bsts[k] = {}\n",
    "    for i in xrange(Yall.shape[1]):\n",
    "        print k, targets[i]\n",
    "        dtrain = xgb.DMatrix(X, label=Yall[:,i])\n",
    "        bst = xgb.train(params, dtrain, num_round)\n",
    "        bsts[k][targets[i]] = bst\n"
   ]
  },
  {
   "cell_type": "markdown",
   "metadata": {
    "deletable": true,
    "editable": true
   },
   "source": [
    "- Let's retrieve the gain from the booster and plot for each features"
   ]
  },
  {
   "cell_type": "code",
   "execution_count": 24,
   "metadata": {
    "collapsed": false,
    "deletable": true,
    "editable": true
   },
   "outputs": [
    {
     "data": {
      "image/png": "[encoded data removed]",
      "text/plain": [
       "<matplotlib.figure.Figure at 0x7f0dff9fa9d0>"
      ]
     },
     "metadata": {},
     "output_type": "display_data"
    }
   ],
   "source": [
    "gain = {}\n",
    "for i in ['ADn', 'Pos']:\n",
    "    gain[i] = {}\n",
    "    for j in bsts[i].iterkeys(): # for each neuron\n",
    "        gain[i][j] = bsts[i][j].get_score(importance_type = 'gain')\n",
    "\n",
    "\n",
    "labels = ['ADn', 'PoSub']\n",
    "x = np.arange(3, dtype = float)\n",
    "for g, i in zip(gain.iterkeys(), xrange(2)):\n",
    "    tmp = []\n",
    "    for k in gain[g].iterkeys():\n",
    "        tmp.append([])\n",
    "        for f in ['f0', 'f1', 'f2']:\n",
    "            if f in gain[g][k].keys():\n",
    "                tmp[-1].append(gain[g][k][f])\n",
    "            else:\n",
    "                tmp[-1].append(0.0)                \n",
    "    tmp = np.array(tmp)\n",
    "    tmp = tmp/np.vstack(tmp.sum(1))\n",
    "    mean = tmp.mean(0)\n",
    "    sem = np.std(tmp, 0)/np.sqrt(np.size(tmp))\n",
    "    bar(x, mean, 0.4, yerr = sem, align='center',\n",
    "        ecolor='k', alpha=.9, color=colors_[i], ec='w', label = labels[i], capsize = 1)\n",
    "    plot(x, mean, 'o', alpha = 1, color = 'black', markersize = 2)\n",
    "    x += 0.41\n",
    "#     ylim(0,18)\n",
    "    xlim(-0.5, 2.95)\n",
    "\n",
    "xticks(np.arange(3)+0.205, ('Angle','x pos', 'y pos'), rotation = 45, ha='right')\n",
    "locator_params(axis='y', nbins = 3)\n",
    "legend()\n",
    "\n",
    "show()"
   ]
  },
  {
   "cell_type": "markdown",
   "metadata": {
    "deletable": true,
    "editable": true
   },
   "source": [
    "- Bonus : a function to extract the split order :"
   ]
  },
  {
   "cell_type": "code",
   "execution_count": 25,
   "metadata": {
    "collapsed": true,
    "deletable": true,
    "editable": true
   },
   "outputs": [],
   "source": [
    "def extract_tree_order(trees, n_feat):\n",
    "    # return array (len(trees), n_feat) \n",
    "    n = len(trees.get_dump())\n",
    "    propor = np.zeros((n,n_feat))       \n",
    "    for t in xrange(n):\n",
    "        gv = xgb.to_graphviz(trees, num_trees=t)\n",
    "        body = gv.body      \n",
    "        for i in xrange(len(body)):\n",
    "            for l in body[i].split('\"'):\n",
    "                if 'f' in l and '<' in l:\n",
    "                    feat = l.split(\"<\")[0]\n",
    "                    propor[t,int(feat[1:])] += 1\n",
    "    \n",
    "    propor = np.cumsum(propor, 0)           \n",
    "    propor = propor/np.vstack(np.sum(propor, 1))\n",
    "    return propor"
   ]
  }
 ],
 "metadata": {
  "kernelspec": {
   "display_name": "Python 2",
   "language": "python",
   "name": "python2"
  },
  "language_info": {
   "codemirror_mode": {
    "name": "ipython",
    "version": 2
   },
   "file_extension": ".py",
   "mimetype": "text/x-python",
   "name": "python",
   "nbconvert_exporter": "python",
   "pygments_lexer": "ipython2",
   "version": "2.7.12"
  }
 },
 "nbformat": 4,
 "nbformat_minor": 2
}
