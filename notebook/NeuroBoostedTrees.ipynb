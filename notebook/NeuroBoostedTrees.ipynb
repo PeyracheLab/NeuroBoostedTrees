{
 "cells": [
  {
   "cell_type": "markdown",
   "metadata": {
    "deletable": true,
    "editable": true
   },
   "source": [
    "# NeuroBoostedTrees\n",
    "\n",
    "This notebook is for :\n",
    "\"Resolving neuronal population code and  coordination with gradient boosted trees, Viejo et al, 2017\"\n",
    "\n",
    "We made an extensive use of [XGBoost][3] for analysing head-direction data.\n",
    "\n",
    "Inspired by \"[Modern machine learning far outperforms GLMs at predicting spikes, Benjamin et al, 2017][2]\", we presents here some of the python function that we used to analyse XGBoost.\n",
    "\n",
    "The dataset to use on this tutorial can be found [here.][1]\n",
    "\n",
    "We mostly shown the scoring function when predicting firing rate activity and the function to dissect XGBoost i.e. the splitting positions and gains. If you are interested in something not shown here, the messy code can be found [here][4] or you can send us a message. \n",
    "\n",
    " \n",
    "## Table of content\n",
    "\n",
    "0. Load and transform data\n",
    "0. Looking at the prediction score\n",
    "0. Importance of features \n",
    "\n",
    "[1]:www.peyrachelab.com/data/data_test_PP20.mat\n",
    "[2]:http://biorxiv.org/content/early/2017/02/24/111450\n",
    "[3]:http://xgboost.readthedocs.io/en/latest/\n",
    "[4]:https://github.com/gviejo/Prediction_xgb_head_direction"
   ]
  },
  {
   "cell_type": "markdown",
   "metadata": {
    "deletable": true,
    "editable": true
   },
   "source": [
    "## Dependencies\n",
    "\n",
    "Basics\n",
    " - matplotlib\n",
    " - numpy\n",
    " - pandas\n",
    " - scipy\n",
    " - warnings\n",
    " - itertools\n",
    " \n",
    "Methods\n",
    " - xgboost\n",
    " "
   ]
  },
  {
   "cell_type": "code",
   "execution_count": 2,
   "metadata": {
    "collapsed": false,
    "deletable": true,
    "editable": true
   },
   "outputs": [],
   "source": [
    "import warnings\n",
    "import pandas as pd\n",
    "import scipy.io\n",
    "import numpy as np\n",
    "import sys, os\n",
    "import itertools\n"
   ]
  },
  {
   "cell_type": "markdown",
   "metadata": {
    "deletable": true,
    "editable": true
   },
   "source": [
    "\n",
    "## I. PREDICTING FIRING RATE WITH ANGULAR POSITION\n",
    "\n",
    "### 1. Loading data\n",
    "\n",
    "First, a dictionnary of array is loaded.\n",
    "Keys are :\n",
    "    - 'Ang' : the angular value\n",
    "    - 'X'     : the x position \n",
    "    - 'Y'     : the y position\n",
    "    - 'ADn'   : the antero-dorsal nucleus spiking activity (17 neurons)\n",
    "    - 'Pos'   : the Post-subiculum spiking activity (15 neurons)\n",
    "    - 'speed' : the speed of the animal"
   ]
  },
  {
   "cell_type": "code",
   "execution_count": 9,
   "metadata": {
    "collapsed": false,
    "deletable": true,
    "editable": true
   },
   "outputs": [
    {
     "name": "stdout",
     "output_type": "stream",
     "text": [
      "['Ang', 'Pos', '__header__', '__globals__', 'ADn', 'Y', 'X', '__version__', 'speed']\n"
     ]
    }
   ],
   "source": [
    "#####################################################################\n",
    "# DATA LOADING\n",
    "#####################################################################\n",
    "#head direction data\n",
    "hd_data = scipy.io.loadmat('../python/data_test_boosted_tree_20ms.mat') # 20 ms is the size of the time bin\n",
    "print(hd_data.keys())\n"
   ]
  },
  {
   "cell_type": "markdown",
   "metadata": {
    "deletable": true,
    "editable": true
   },
   "source": [
    "### 2. Integrating data into panda frame\n",
    "\n",
    "Pandas make life much easier when learning with different subgroups of neurons. It allows to retrive quickly time series.\n",
    "Neurons are ordered based on their tuning curves (from 0 to 2pi). When included in pandas, they are named with the same order such as ['ADn.0', 'ADn.1', 'ADn.2', ...].\n"
   ]
  },
  {
   "cell_type": "code",
   "execution_count": 14,
   "metadata": {
    "collapsed": false,
    "deletable": true,
    "editable": true
   },
   "outputs": [
    {
     "name": "stdout",
     "output_type": "stream",
     "text": [
      "Index([u'time', u'ang', u'x', u'y', u'vel', u'Pos.0', u'Pos.1', u'Pos.2',\n",
      "       u'Pos.3', u'Pos.4', u'Pos.5', u'Pos.6', u'Pos.7', u'Pos.8', u'Pos.9',\n",
      "       u'Pos.10', u'Pos.11', u'Pos.12', u'Pos.13', u'Pos.14', u'ADn.0',\n",
      "       u'ADn.1', u'ADn.2', u'ADn.3', u'ADn.4', u'ADn.5', u'ADn.6', u'ADn.7',\n",
      "       u'ADn.8', u'ADn.9', u'ADn.10', u'ADn.11', u'ADn.12', u'ADn.13',\n",
      "       u'ADn.14', u'ADn.15', u'ADn.16'],\n",
      "      dtype='object')\n"
     ]
    }
   ],
   "source": [
    "data            =   pd.DataFrame()\n",
    "data['time']    =   np.arange(len(hd_data['Ang']))     \n",
    "data['ang']     =   hd_data['Ang'].flatten()            \n",
    "data['x']       =   hd_data['X'].flatten()              \n",
    "data['y']       =   hd_data['Y'].flatten()              \n",
    "data['vel']     =   hd_data['speed'].flatten()\n",
    "# neurons activity \n",
    "for i in xrange(hd_data['Pos'].shape[1]): data['Pos'+'.'+str(i)] = hd_data['Pos'][:,i]\n",
    "for i in xrange(hd_data['ADn'].shape[1]): data['ADn'+'.'+str(i)] = hd_data['ADn'][:,i]\n",
    "\n",
    "print data.keys()"
   ]
  },
  {
   "cell_type": "markdown",
   "metadata": {
    "deletable": true,
    "editable": true
   },
   "source": [
    "### 3. Prediction score functions and cross validations"
   ]
  },
  {
   "cell_type": "markdown",
   "metadata": {
    "deletable": true,
    "editable": true
   },
   "source": [
    "Scikit-learn must be installed from now.\n"
   ]
  },
  {
   "cell_type": "code",
   "execution_count": 16,
   "metadata": {
    "collapsed": false,
    "deletable": true,
    "editable": true
   },
   "outputs": [],
   "source": [
    "from sklearn.model_selection import KFold\n",
    "\n",
    "def poisson_pseudoR2(y, yhat, ynull):\n",
    "    \"\"\" Compute the pseudo R2 score\n",
    "        y : real firing rate\n",
    "        yhat : predicted firing rate\n",
    "        ynull : mean of the real firing rate\n",
    "    \"\"\"    \n",
    "    yhat = yhat.reshape(y.shape)\n",
    "    eps = np.spacing(1)\n",
    "    L1 = np.sum(y*np.log(eps+yhat) - yhat)\n",
    "    L1_v = y*np.log(eps+yhat) - yhat\n",
    "    L0 = np.sum(y*np.log(eps+ynull) - ynull)\n",
    "    LS = np.sum(y*np.log(eps+y) - y)\n",
    "    R2 = 1-(LS-L1)/(LS-L0)\n",
    "    return R2\n",
    "\n",
    "def fit_cv(X, Y, algorithm, n_cv=10):\n",
    "    \"\"\"Performs cross-validated fitting. Returns (Y_hat, pR2_cv); a vector of predictions Y_hat with the\n",
    "    same dimensions as Y, and a list of pR2 scores on each fold pR2_cv.\n",
    "    X  = input data\n",
    "    Y = spiking data\n",
    "    algorithm = a function of (Xr, Yr, Xt) {training data Xr and response Yr and testing features Xt}\n",
    "                and returns the predicted response Yt\n",
    "    n_cv = number of cross-validations folds\n",
    "    \"\"\"\n",
    "    if np.ndim(X)==1:\n",
    "        X = np.transpose(np.atleast_2d(X))\n",
    "    cv_kf = KFold(n_splits=n_cv, shuffle=True, random_state=42)\n",
    "    skf  = cv_kf.split(X)\n",
    "    Y_hat=np.zeros(len(Y))\n",
    "    pR2_cv = list()\n",
    "    for idx_r, idx_t in skf:\n",
    "        Xr = X[idx_r, :]\n",
    "        Yr = Y[idx_r]\n",
    "        Xt = X[idx_t, :]\n",
    "        Yt = Y[idx_t]           \n",
    "        Yt_hat = eval(algorithm)(Xr, Yr, Xt)        \n",
    "        Y_hat[idx_t] = Yt_hat\n",
    "        pR2 = poisson_pseudoR2(Yt, Yt_hat, np.mean(Yr))\n",
    "        pR2_cv.append(pR2)\n",
    "\n",
    "    return Y_hat, pR2_cv\n"
   ]
  },
  {
   "cell_type": "markdown",
   "metadata": {
    "deletable": true,
    "editable": true
   },
   "source": [
    "### 4. Learners definitions\n",
    "\n",
    "As in the paper, we define :\n",
    "    - xgb_run : XGBoost \n",
    "    - mb : the model-based tuning curves of the neuron\n",
    "    - lin_comb : a simple linear regression\n",
    "    - kernel : the kernel model that transforms the angular feature into a combination of cosinus and sinus"
   ]
  },
  {
   "cell_type": "code",
   "execution_count": 38,
   "metadata": {
    "collapsed": false,
    "deletable": true,
    "editable": true
   },
   "outputs": [],
   "source": [
    "import xgboost as xgb\n",
    "from sklearn.linear_model import LinearRegression\n",
    "\n",
    "def xgb_run(Xr, Yr, Xt):\n",
    "    \"\"\" XGBoost model\n",
    "        Return the predicted firing rate\n",
    "    \"\"\"\n",
    "    params = {'objective': \"count:poisson\", #for poisson output\n",
    "    'eval_metric': \"poisson-nloglik\", #loglikelihood loss\n",
    "    'seed': 2925,\n",
    "    'silent': 1,\n",
    "    'learning_rate': 0.1,\n",
    "    'min_child_weight': 2, \n",
    "    # 'subsample': 0.6, \n",
    "    'max_depth': 5, \n",
    "    'gamma': 0.5\n",
    "    }    \n",
    "    dtrain = xgb.DMatrix(Xr, label=Yr)\n",
    "    dtest = xgb.DMatrix(Xt)\n",
    "    num_round = 100\n",
    "    bst = xgb.train(params, dtrain, num_round)\n",
    "    Yt = bst.predict(dtest)\n",
    "    return Yt\n",
    "\n",
    "def mb(Xr, Yr, Xt):\n",
    "    \"\"\" Compute the model-based tuning curve of the hd cells\n",
    "        And return the predicted firing rate        \n",
    "    \"\"\"\n",
    "    nb_bins = 60\n",
    "    bins = np.linspace(np.vstack((Xr, Xt)).min(), np.vstack((Xr, Xt)).max()+1e-8, nb_bins+1)\n",
    "    index = np.digitize(Xr, bins).flatten()    \n",
    "    tcurve = np.array([np.sum(Yr[index == i]) for i in xrange(1, nb_bins+1)])\n",
    "    occupancy = np.array([np.sum(index == i) for i in xrange(1, nb_bins+1)])\n",
    "    tcurve = (tcurve/occupancy)*40.0  \n",
    "    new_index = np.digitize(Xt, bins).flatten()    \n",
    "    return tcurve[new_index-1]/40.0 \n",
    "\n",
    "def lin_comb(Xr, Yr, Xt):\n",
    "    \"\"\" Linear model\n",
    "        Return the predicted firing rate\n",
    "    \"\"\"\n",
    "    lr = LinearRegression()\n",
    "    lr.fit(Xr, Yr)\n",
    "    Yt = lr.predict(Xt)    \n",
    "    #rectify outputs\n",
    "    Yt = np.maximum(Yt,np.zeros(Yt.shape))\n",
    "    return Yt \n",
    "\n",
    "def kernel(Xr, Yr, Xt):\n",
    "    \"\"\" Kernel model, cos and sin of the angle to the linear model\n",
    "        Return the predicted firing rate\n",
    "    \"\"\"\n",
    "    newX = np.zeros((Xr.shape[0], 12)) # up to six order    \n",
    "    newXt = np.zeros((Xt.shape[0], 12))\n",
    "    for i, j in zip(xrange(1,7), xrange(0, 12, 2)):\n",
    "        newX[:,j] = np.cos(i*Xr).flatten()\n",
    "        newX[:,j+1] = np.sin(i*Xr).flatten()\n",
    "        newXt[:,j] = np.cos(i*Xt).flatten()\n",
    "        newXt[:,j+1] = np.sin(i*Xt).flatten()\n",
    "    Yt = lin_comb(newX, Yr, newXt)    \n",
    "    return Yt"
   ]
  },
  {
   "cell_type": "markdown",
   "metadata": {
    "deletable": true,
    "editable": true
   },
   "source": [
    "### 5 Supervised learning\n",
    "\n",
    "The function test_features take a list of features and a list of targets and do the supervised learning procedure with cross-validation.\n"
   ]
  },
  {
   "cell_type": "code",
   "execution_count": 39,
   "metadata": {
    "collapsed": false,
    "deletable": true,
    "editable": true
   },
   "outputs": [],
   "source": [
    "def test_features(features, targets, learners):\n",
    "    '''\n",
    "    features : a list of features, for example ['ang', 'x', 'y']\n",
    "    targets :  the list of neurons to predict ['ADn.0', 'ADn.1']\n",
    "    learners : the list of model to use, for example ['xgb']        \n",
    "    Return : dictionnary with for each models the score PR2 and Yt_hat (the prediction of the firing rate)\n",
    "    '''\n",
    "    X = data[features].values\n",
    "    Y = data[targets].values    \n",
    "    output = {method:{'PR2':[],'Yt_hat':[]} for method in learners}\n",
    "    learners_ = list(learners)\n",
    "    for i in xrange(Y.shape[1]):\n",
    "        y = Y[:,i]        \n",
    "        for method in learners_:        \n",
    "            print('Running '+method+' to predict '+targets[i])                              \n",
    "            Yt_hat, PR2 = fit_cv(X, y, algorithm = method, n_cv=8)       \n",
    "            output[method]['Yt_hat'].append(Yt_hat)\n",
    "            output[method]['PR2'].append(PR2)           \n",
    "    for m in output.iterkeys():\n",
    "        output[m]['Yt_hat'] = np.array(output[m]['Yt_hat'])\n",
    "        output[m]['PR2'] = np.array(output[m]['PR2'])        \n",
    "    return output\n",
    "    "
   ]
  },
  {
   "cell_type": "markdown",
   "metadata": {},
   "source": [
    " All the combination to be learned is defined here through a dictionnary."
   ]
  },
  {
   "cell_type": "code",
   "execution_count": 40,
   "metadata": {
    "collapsed": false,
    "scrolled": true
   },
   "outputs": [
    {
     "name": "stdout",
     "output_type": "stream",
     "text": [
      "{'features': ['ang'], 'targets': ['ADn.0', 'ADn.1', 'ADn.2', 'ADn.3', 'ADn.4', 'ADn.5', 'ADn.6', 'ADn.7', 'ADn.8', 'ADn.9', 'ADn.10', 'ADn.11', 'ADn.12', 'ADn.13', 'ADn.14', 'ADn.15', 'ADn.16']}\n",
      "{'features': ['ang'], 'targets': ['Pos.0', 'Pos.1', 'Pos.2', 'Pos.3', 'Pos.4', 'Pos.5', 'Pos.6', 'Pos.7', 'Pos.8', 'Pos.9', 'Pos.10', 'Pos.11', 'Pos.12', 'Pos.13', 'Pos.14']}\n"
     ]
    }
   ],
   "source": [
    "combination = {\n",
    "    'Pos':  {\n",
    "            'features'  :   ['ang'],\n",
    "            'targets'   :   [i for i in list(data) if i.split(\".\")[0] == 'Pos'], \n",
    "            },          \n",
    "    'ADn':  {\n",
    "            'features'  :   ['ang'],\n",
    "            'targets'   :   [i for i in list(data) if i.split(\".\")[0] == 'ADn'],\n",
    "            }\n",
    "}\n",
    "print(combination['ADn'])\n",
    "print(combination['Pos'])\n"
   ]
  },
  {
   "cell_type": "code",
   "execution_count": null,
   "metadata": {
    "collapsed": true
   },
   "outputs": [],
   "source": []
  },
  {
   "cell_type": "markdown",
   "metadata": {},
   "source": [
    "The main loop"
   ]
  },
  {
   "cell_type": "code",
   "execution_count": 42,
   "metadata": {
    "collapsed": false
   },
   "outputs": [
    {
     "name": "stdout",
     "output_type": "stream",
     "text": [
      "Running mb to predict ADn.0\n",
      "Running xgb_run to predict ADn.0\n",
      "Running lin_comb to predict ADn.0\n",
      "Running kernel to predict ADn.0\n",
      "Running mb to predict ADn.1\n",
      "Running xgb_run to predict ADn.1\n",
      "Running lin_comb to predict ADn.1\n",
      "Running kernel to predict ADn.1\n",
      "Running mb to predict ADn.2\n",
      "Running xgb_run to predict ADn.2\n",
      "Running lin_comb to predict ADn.2\n",
      "Running kernel to predict ADn.2\n",
      "Running mb to predict ADn.3\n",
      "Running xgb_run to predict ADn.3\n",
      "Running lin_comb to predict ADn.3\n",
      "Running kernel to predict ADn.3\n",
      "Running mb to predict ADn.4\n",
      "Running xgb_run to predict ADn.4\n",
      "Running lin_comb to predict ADn.4\n",
      "Running kernel to predict ADn.4\n",
      "Running mb to predict ADn.5\n",
      "Running xgb_run to predict ADn.5\n",
      "Running lin_comb to predict ADn.5\n",
      "Running kernel to predict ADn.5\n",
      "Running mb to predict ADn.6\n",
      "Running xgb_run to predict ADn.6\n",
      "Running lin_comb to predict ADn.6\n",
      "Running kernel to predict ADn.6\n",
      "Running mb to predict ADn.7\n",
      "Running xgb_run to predict ADn.7\n",
      "Running lin_comb to predict ADn.7\n",
      "Running kernel to predict ADn.7\n",
      "Running mb to predict ADn.8\n",
      "Running xgb_run to predict ADn.8\n",
      "Running lin_comb to predict ADn.8\n",
      "Running kernel to predict ADn.8\n",
      "Running mb to predict ADn.9\n",
      "Running xgb_run to predict ADn.9\n",
      "Running lin_comb to predict ADn.9\n",
      "Running kernel to predict ADn.9\n",
      "Running mb to predict ADn.10\n",
      "Running xgb_run to predict ADn.10\n",
      "Running lin_comb to predict ADn.10\n",
      "Running kernel to predict ADn.10\n",
      "Running mb to predict ADn.11\n",
      "Running xgb_run to predict ADn.11\n",
      "Running lin_comb to predict ADn.11\n",
      "Running kernel to predict ADn.11\n",
      "Running mb to predict ADn.12\n",
      "Running xgb_run to predict ADn.12\n",
      "Running lin_comb to predict ADn.12\n",
      "Running kernel to predict ADn.12\n",
      "Running mb to predict ADn.13\n",
      "Running xgb_run to predict ADn.13\n",
      "Running lin_comb to predict ADn.13\n",
      "Running kernel to predict ADn.13\n",
      "Running mb to predict ADn.14\n",
      "Running xgb_run to predict ADn.14\n",
      "Running lin_comb to predict ADn.14\n",
      "Running kernel to predict ADn.14\n",
      "Running mb to predict ADn.15\n",
      "Running xgb_run to predict ADn.15\n",
      "Running lin_comb to predict ADn.15\n",
      "Running kernel to predict ADn.15\n",
      "Running mb to predict ADn.16\n",
      "Running xgb_run to predict ADn.16\n",
      "Running lin_comb to predict ADn.16\n",
      "Running kernel to predict ADn.16\n",
      "Running mb to predict Pos.0\n",
      "Running xgb_run to predict Pos.0\n",
      "Running lin_comb to predict Pos.0\n",
      "Running kernel to predict Pos.0\n",
      "Running mb to predict Pos.1\n",
      "Running xgb_run to predict Pos.1\n",
      "Running lin_comb to predict Pos.1\n",
      "Running kernel to predict Pos.1\n",
      "Running mb to predict Pos.2\n",
      "Running xgb_run to predict Pos.2\n",
      "Running lin_comb to predict Pos.2\n",
      "Running kernel to predict Pos.2\n",
      "Running mb to predict Pos.3\n",
      "Running xgb_run to predict Pos.3\n",
      "Running lin_comb to predict Pos.3\n",
      "Running kernel to predict Pos.3\n",
      "Running mb to predict Pos.4\n",
      "Running xgb_run to predict Pos.4\n",
      "Running lin_comb to predict Pos.4\n",
      "Running kernel to predict Pos.4\n",
      "Running mb to predict Pos.5\n",
      "Running xgb_run to predict Pos.5\n",
      "Running lin_comb to predict Pos.5\n",
      "Running kernel to predict Pos.5\n",
      "Running mb to predict Pos.6\n",
      "Running xgb_run to predict Pos.6\n",
      "Running lin_comb to predict Pos.6\n",
      "Running kernel to predict Pos.6\n",
      "Running mb to predict Pos.7\n",
      "Running xgb_run to predict Pos.7\n",
      "Running lin_comb to predict Pos.7\n",
      "Running kernel to predict Pos.7\n",
      "Running mb to predict Pos.8\n",
      "Running xgb_run to predict Pos.8\n",
      "Running lin_comb to predict Pos.8\n",
      "Running kernel to predict Pos.8\n",
      "Running mb to predict Pos.9\n",
      "Running xgb_run to predict Pos.9\n",
      "Running lin_comb to predict Pos.9\n",
      "Running kernel to predict Pos.9\n",
      "Running mb to predict Pos.10\n",
      "Running xgb_run to predict Pos.10\n",
      "Running lin_comb to predict Pos.10\n",
      "Running kernel to predict Pos.10\n",
      "Running mb to predict Pos.11\n",
      "Running xgb_run to predict Pos.11\n",
      "Running lin_comb to predict Pos.11\n",
      "Running kernel to predict Pos.11\n",
      "Running mb to predict Pos.12\n",
      "Running xgb_run to predict Pos.12\n",
      "Running lin_comb to predict Pos.12\n",
      "Running kernel to predict Pos.12\n",
      "Running mb to predict Pos.13\n",
      "Running xgb_run to predict Pos.13\n",
      "Running lin_comb to predict Pos.13\n",
      "Running kernel to predict Pos.13\n",
      "Running mb to predict Pos.14\n",
      "Running xgb_run to predict Pos.14\n",
      "Running lin_comb to predict Pos.14\n",
      "Running kernel to predict Pos.14\n"
     ]
    }
   ],
   "source": [
    "methods = ['mb', 'xgb_run', 'lin_comb', 'kernel']\n",
    "final_data = {}\n",
    "for g in np.sort(combination.keys()):\n",
    "    features = combination[g]['features']\n",
    "    targets = combination[g]['targets'] \n",
    "    results = test_features(features, targets, methods)        \n",
    "    final_data[g] = results\n",
    "    "
   ]
  },
  {
   "cell_type": "markdown",
   "metadata": {},
   "source": [
    "Let's plot the result for this dataset"
   ]
  },
  {
   "cell_type": "code",
   "execution_count": 43,
   "metadata": {
    "collapsed": false,
    "deletable": true,
    "editable": true,
    "scrolled": true
   },
   "outputs": [
    {
     "data": {
      "image/png": "[encoded data removed]",
      "text/plain": [
       "<matplotlib.figure.Figure at 0x7fa6edd4d910>"
      ]
     },
     "metadata": {},
     "output_type": "display_data"
    }
   ],
   "source": [
    "from matplotlib.pyplot import *\n",
    "\n",
    "methods_to_plot = ['mb', 'xgb_run', 'lin_comb', 'kernel']\n",
    "labels = {  'mb':'MB \\n 60 bins', \n",
    "            'lin_comb':'Linear', \n",
    "            'nn':'NN', \n",
    "            'xgb_run':\"$\\mathbf{XGB}$\",\n",
    "            'h1':\"Linear \\n (cos$\\\\theta$, sin$\\\\theta$)\",\n",
    "            'kernel':\"$6^{rd}$ order \\n kernel\"}\n",
    "labels_plot = [labels[m] for m in methods_to_plot]\n",
    "mean_pR2 = list()\n",
    "sem_pR2 = list()\n",
    "for model in methods_to_plot:\n",
    "    PR2_art = final_data['ADn'][model]['PR2']\n",
    "    mean_pR2.append(np.mean(PR2_art))\n",
    "    sem_pR2.append(np.std(PR2_art)/np.sqrt(np.size(PR2_art)))        \n",
    "bar(np.arange(np.size(mean_pR2)), mean_pR2, 0.4, align='center',\n",
    "        ecolor='k', alpha=1, color='#EE6C4D', ec='w', yerr=np.array(sem_pR2), label = 'Antero-dorsal nucleus')\n",
    "plot(np.arange(np.size(mean_pR2)), mean_pR2, 'k.', markersize=5)\n",
    "mean_pR2 = list()\n",
    "sem_pR2 = list()\n",
    "for model in methods_to_plot:\n",
    "    PR2_art = final_data['Pos'][model]['PR2']\n",
    "    mean_pR2.append(np.mean(PR2_art))\n",
    "    sem_pR2.append(np.std(PR2_art)/np.sqrt(np.size(PR2_art)))\n",
    "bar(np.arange(np.size(mean_pR2))+0.405, mean_pR2, 0.4, align='center',\n",
    "        ecolor='k', alpha=1, color='#3D5A80', ec='w', yerr=np.array(sem_pR2), label = 'Post-subiculum')\n",
    "plot(np.arange(np.size(mean_pR2))+0.41, mean_pR2, 'k.', markersize=5)\n",
    "plot([-1, len(methods_to_plot)], [0,0],'--k', alpha=0.4)\n",
    "legend(loc='upper center', ncol=2, frameon = False)\n",
    "xlim(-0.5,)\n",
    "# ylim(0.0, 0.8)\n",
    "xticks(np.arange(np.size(mean_pR2))+0.205, labels_plot)\n",
    "ylabel(\"$Pseudo-R^2$\")\n",
    "\n",
    "show()"
   ]
  },
  {
   "cell_type": "markdown",
   "metadata": {
    "deletable": true,
    "editable": true
   },
   "source": [
    "## II. ANALYSING SPLITS POSITIONS"
   ]
  },
  {
   "cell_type": "markdown",
   "metadata": {
    "deletable": true,
    "editable": true
   },
   "source": [
    "#### a. Using p-R2 score per feature"
   ]
  },
  {
   "cell_type": "markdown",
   "metadata": {
    "deletable": true,
    "editable": true
   },
   "source": [
    "- create the function to plot the feature importance"
   ]
  },
  {
   "cell_type": "code",
   "execution_count": 35,
   "metadata": {
    "collapsed": true,
    "deletable": true,
    "editable": true
   },
   "outputs": [],
   "source": [
    "def bar_R2(R2_dict,f_compa,ta,nn):\n",
    "    labels=[]\n",
    "    mean=[]\n",
    "    sem=[]\n",
    "    a=0\n",
    "    for l in f_compa.columns:\n",
    "        K=np.zeros(nn)\n",
    "        for i in range(nn):\n",
    "            K[i]=np.mean(R2_dict[ta+'.'+str(i)][l])\n",
    "        mean.append(np.mean(K))\n",
    "        sem.append(np.std(K)/np.sqrt(np.size(K)))\n",
    "        labels.append(l)\n",
    "        a=a+1\n",
    "    plt.bar(np.arange(np.size(mean)),mean, 0.8, align='center',\n",
    "                    ecolor='k', alpha=.9, color='red', ec='w',yerr = sem ,\n",
    "                    tick_label=labels)\n",
    "    plt.plot(np.arange(np.size(mean)), mean, 'k.', markersize=15)\n",
    "    plt.ylabel('Pseudo_R2')\n",
    "    plt.show()"
   ]
  },
  {
   "cell_type": "markdown",
   "metadata": {
    "deletable": true,
    "editable": true
   },
   "source": [
    "- Create the array with the features to compare"
   ]
  },
  {
   "cell_type": "code",
   "execution_count": 9,
   "metadata": {
    "collapsed": true,
    "deletable": true,
    "editable": true
   },
   "outputs": [],
   "source": [
    "f_compa=data[[ 'ang', 'x', 'y', 'vel']]\n"
   ]
  },
  {
   "cell_type": "markdown",
   "metadata": {
    "deletable": true,
    "editable": true
   },
   "source": [
    "- Function to create the dictionnary with the results for different neurons of one session. "
   ]
  },
  {
   "cell_type": "code",
   "execution_count": 36,
   "metadata": {
    "collapsed": false,
    "deletable": true,
    "editable": true
   },
   "outputs": [],
   "source": [
    "def comp_R2(f_compa,nn,ta,n_trees=50,depth=5):\n",
    "    params = {'objective': \"count:poisson\", #for poisson output\n",
    "        'eval_metric': \"logloss\", #loglikelihood loss\n",
    "        'seed': 2925, #for reproducibility\n",
    "        'silent': 1,\n",
    "        'learning_rate': 0.05,\n",
    "        'min_child_weight': 2, 'n_estimators': 580,\n",
    "        'subsample': 0.6, 'max_depth': n_trees, 'gamma': 0.4}   \n",
    "    R2_dict=dict()\n",
    "    for i in range(nn):\n",
    "        print(i)\n",
    "        R2_dict[ta+'.'+str(i)]=dict()\n",
    "        for keys in f_compa.columns:\n",
    "            R2_dict[ta+'.'+str(i)][keys]=fit_cv(f_compa[keys].values,data[ta+'.'+str(i)].values,'xgb_run',params,n_trees, n_cv=8, verbose=1)[1]\n",
    "    return R2_dict\n",
    "\n"
   ]
  },
  {
   "cell_type": "code",
   "execution_count": null,
   "metadata": {
    "collapsed": false,
    "deletable": true,
    "editable": true
   },
   "outputs": [
    {
     "name": "stdout",
     "output_type": "stream",
     "text": [
      "0\n",
      "pR2_cv: 0.320640 (+/- 0.002164)\n",
      "pR2_cv: 0.107286 (+/- 0.001905)\n",
      "pR2_cv: 0.054016 (+/- 0.001395)\n",
      "pR2_cv: 0.002525 (+/- 0.001126)\n",
      "1\n",
      "pR2_cv: 0.311384 (+/- 0.002595)\n",
      "pR2_cv: 0.076674 (+/- 0.002462)\n",
      "pR2_cv: 0.058048 (+/- 0.002629)\n",
      "pR2_cv: -0.000094 (+/- 0.000838)\n",
      "2\n",
      "pR2_cv: 0.474184 (+/- 0.003484)\n",
      "pR2_cv: 0.221788 (+/- 0.003022)\n",
      "pR2_cv: 0.123434 (+/- 0.002846)\n",
      "pR2_cv: 0.005792 (+/- 0.001005)\n",
      "3\n",
      "pR2_cv: 0.515440 (+/- 0.002409)\n",
      "pR2_cv: 0.162379 (+/- 0.003947)\n",
      "pR2_cv: 0.154952 (+/- 0.002447)\n",
      "pR2_cv: 0.002363 (+/- 0.000529)\n",
      "4\n",
      "pR2_cv: 0.476049 (+/- 0.002651)\n",
      "pR2_cv: 0.071112 (+/- 0.001641)\n",
      "pR2_cv: 0.123703 (+/- 0.001790)\n",
      "pR2_cv: 0.003311 (+/- 0.000636)\n",
      "5\n",
      "pR2_cv: 0.026449 (+/- 0.002820)\n",
      "pR2_cv: -0.057542 (+/- 0.002879)\n",
      "pR2_cv: -0.045759 (+/- 0.002685)\n",
      "pR2_cv: -0.040627 (+/- 0.003119)\n",
      "6\n"
     ]
    }
   ],
   "source": [
    "R2_dict=comp_R2(f_compa,nnPos,'Pos')\n",
    "bar_R2(R2_dict,f_compa,ta,nn)"
   ]
  },
  {
   "cell_type": "markdown",
   "metadata": {
    "deletable": true,
    "editable": true
   },
   "source": [
    "#### b. Looking at the split structure\n",
    "\n",
    "- Function Spl to create a dictionay with the number of splits for each feature"
   ]
  },
  {
   "cell_type": "code",
   "execution_count": 15,
   "metadata": {
    "collapsed": false,
    "deletable": true,
    "editable": true
   },
   "outputs": [],
   "source": [
    "import xgboost as xgb\n",
    "import matplotlib.pyplot as plt\n",
    "\n",
    "def Spl(X,y,n_trees=30,depth=2):\n",
    "    params = {'objective': \"count:poisson\", #for poisson output\n",
    "        'eval_metric': \"logloss\", #loglikelihood loss\n",
    "        'seed': 2925, #for reproducibility\n",
    "        'silent': 1,\n",
    "        'learning_rate': 0.05,\n",
    "        'min_child_weight': 0.1, 'n_estimators': 580,\n",
    "        'subsample': 0.6, 'max_depth': depth, 'gamma': 0.4}  \n",
    "\n",
    "    dtrain = xgb.DMatrix(X.values, label=y)\n",
    "    num_round = n_trees\n",
    "    bst = xgb.train(params, dtrain, num_round)\n",
    "\n",
    "    Sp=extract_tree_threshold(bst)\n",
    "    return Sp\n",
    "\n",
    "def extract_tree_threshold(trees):\n",
    "    n = len(trees.get_dump())\n",
    "    thr = {}\n",
    "    for t in range(n):\n",
    "        gv = xgb.to_graphviz(trees, num_trees=t)\n",
    "        body = gv.body\n",
    "        for i in range(len(body)):\n",
    "            for l in body[i].split('\"'):\n",
    "                if 'f' in l and '<' in l:\n",
    "                    tmp = l.split(\"<\")\n",
    "                    if tmp[0] in thr:\n",
    "                        thr[tmp[0]].append(float(tmp[1]))\n",
    "                    else:\n",
    "                        thr[tmp[0]] = [float(tmp[1])]\n",
    "    for k in thr.keys():\n",
    "        thr[k] = np.sort(np.array(thr[k]))\n",
    "    return thr\n",
    "\n"
   ]
  },
  {
   "cell_type": "markdown",
   "metadata": {
    "deletable": true,
    "editable": true
   },
   "source": [
    "- Function to plot the score distribution"
   ]
  },
  {
   "cell_type": "code",
   "execution_count": null,
   "metadata": {
    "collapsed": true,
    "deletable": true,
    "editable": true
   },
   "outputs": [],
   "source": [
    "def bar_split(num_split,f_compa,ta,nn):\n",
    "    labels=[]\n",
    "    mean=[]\n",
    "    sem=[]\n",
    "    a=0\n",
    "    for l in f_compa.columns:\n",
    "        K=np.zeros(nn)\n",
    "        for i in range(nn):\n",
    "            if 'f'+str(a) in num_split[ta+'.'+str(i)].keys():\n",
    "                K[i]=np.size(num_split[ta+'.'+str(i)]['f'+str(a)])\n",
    "        mean.append(np.mean(K))\n",
    "        sem.append(np.std(K)/np.sqrt(np.size(K)))\n",
    "        labels.append(l)\n",
    "        a=a+1\n",
    "    plt.bar(np.arange(np.size(mean)),mean, 0.8, align='center',\n",
    "                    ecolor='k', alpha=.9, color='red', ec='w',yerr = sem ,\n",
    "                    tick_label=labels)\n",
    "    plt.plot(np.arange(np.size(mean)), mean, 'k.', markersize=15)\n",
    "    plt.ylabel('Number of splits')\n",
    "    plt.show()"
   ]
  },
  {
   "cell_type": "markdown",
   "metadata": {
    "deletable": true,
    "editable": true
   },
   "source": [
    "- Create the array with the features to compare"
   ]
  },
  {
   "cell_type": "code",
   "execution_count": 10,
   "metadata": {
    "collapsed": true,
    "deletable": true,
    "editable": true
   },
   "outputs": [],
   "source": [
    "f_compa=data[[ 'ang', 'x', 'y', 'vel']]\n"
   ]
  },
  {
   "cell_type": "markdown",
   "metadata": {
    "deletable": true,
    "editable": true
   },
   "source": [
    "- Create the dictionary  with the number of split distribution for each neuron"
   ]
  },
  {
   "cell_type": "code",
   "execution_count": 17,
   "metadata": {
    "collapsed": false,
    "deletable": true,
    "editable": true
   },
   "outputs": [],
   "source": [
    "def Split_dict(f_compa,nn,ta,n_trees=30,depth=2):\n",
    "    num_split=dict()\n",
    "    for i in range(nn):\n",
    "        print(i)\n",
    "        num_split[ta+'.'+str(i)]=Spl(f_compa,data[ta+'.'+str(i)].values,n_trees,depth)\n",
    "    return num_split"
   ]
  },
  {
   "cell_type": "markdown",
   "metadata": {
    "deletable": true,
    "editable": true
   },
   "source": [
    "- Plot the split distribution"
   ]
  },
  {
   "cell_type": "code",
   "execution_count": 18,
   "metadata": {
    "collapsed": false,
    "deletable": true,
    "editable": true,
    "scrolled": true
   },
   "outputs": [
    {
     "data": {
      "image/png": "[encoded data removed]",
      "text/plain": [
       "<matplotlib.figure.Figure at 0x10e839f90>"
      ]
     },
     "metadata": {},
     "output_type": "display_data"
    }
   ],
   "source": [
    "num_split=Split_dict(f_compa,nnPos,'Pos')\n",
    "bar_split(num_split,f_compa,'Pos',nnPos)\n"
   ]
  },
  {
   "cell_type": "markdown",
   "metadata": {
    "deletable": true,
    "editable": true
   },
   "source": [
    "#### c. Looking at the gain for feature importance\n",
    "\n",
    "- Function to plot the gain repartition between features"
   ]
  },
  {
   "cell_type": "code",
   "execution_count": 33,
   "metadata": {
    "collapsed": true,
    "deletable": true,
    "editable": true
   },
   "outputs": [],
   "source": [
    "def bar_gain(num_gain,f_compa,ta,nn):\n",
    "    labels=[]\n",
    "    mean=[]\n",
    "    sem=[]\n",
    "    for l in f_compa.columns:\n",
    "        K=np.zeros(nn)\n",
    "        for i in range(nn):\n",
    "            if l in num_gain[ta+'.'+str(i)].keys():\n",
    "                K[i]=np.sum(num_gain[ta+'.'+str(i)][l])\n",
    "        mean.append(np.mean(K))\n",
    "        sem.append(np.std(K)/np.sqrt(np.size(K)))\n",
    "        labels.append(l)\n",
    "    plt.bar(np.arange(np.size(mean)),mean, 0.8, align='center',\n",
    "                    ecolor='k', alpha=.9, color='red', ec='w',yerr = sem ,\n",
    "                    tick_label=labels)\n",
    "    plt.plot(np.arange(np.size(mean)), mean, 'k.', markersize=15)\n",
    "    plt.ylabel('Gain')\n",
    "    plt.show()"
   ]
  },
  {
   "cell_type": "markdown",
   "metadata": {
    "deletable": true,
    "editable": true
   },
   "source": [
    "- Function to create de dictionary with the gain distribution between features"
   ]
  },
  {
   "cell_type": "code",
   "execution_count": 20,
   "metadata": {
    "collapsed": true,
    "deletable": true,
    "editable": true
   },
   "outputs": [],
   "source": [
    "def gain(X,Y,n_trees=30,depth=2):\n",
    "    params = {'objective': \"count:poisson\", #for poisson output\n",
    "    'eval_metric': \"logloss\", #loglikelihood loss\n",
    "    'seed': 2925, #for reproducibility\n",
    "    'silent': 1,\n",
    "    'learning_rate': 0.05,\n",
    "    'min_child_weight': 0, 'n_estimators': 580,\n",
    "    'subsample': 0.6, 'max_depth': depth , 'gamma': 0.4}  \n",
    "\n",
    "    dtrain = xgb.DMatrix(X,Y)     \n",
    "    bst = xgb.train(params, dtrain, n_trees)\n",
    "    return bst.get_score(importance_type = 'gain')"
   ]
  },
  {
   "cell_type": "markdown",
   "metadata": {
    "deletable": true,
    "editable": true
   },
   "source": [
    "- The gain result for each neuron"
   ]
  },
  {
   "cell_type": "code",
   "execution_count": 29,
   "metadata": {
    "collapsed": true,
    "deletable": true,
    "editable": true
   },
   "outputs": [],
   "source": [
    "def Gain_dict(f_compa,nn,ta,n_trees=30,depth=5):\n",
    "    num_gain=dict()\n",
    "    for i in range(nn):\n",
    "        print(i)\n",
    "        num_gain[ta+'.'+str(i)]=gain(f_compa,data[ta+'.'+str(i)].values)\n",
    "    return num_gain"
   ]
  },
  {
   "cell_type": "markdown",
   "metadata": {
    "deletable": true,
    "editable": true
   },
   "source": [
    "- Plot the result"
   ]
  },
  {
   "cell_type": "code",
   "execution_count": 34,
   "metadata": {
    "collapsed": false,
    "deletable": true,
    "editable": true
   },
   "outputs": [
    {
     "name": "stdout",
     "output_type": "stream",
     "text": [
      "0\n",
      "{'y': 5.308505555555554, 'x': 5.55528, 'ang': 33.51814666666667}\n",
      "1\n",
      "{'y': 28.426393333333337, 'ang': 23.460203333333332}\n",
      "2\n",
      "{'x': 16.681583000000003, 'ang': 59.1375811111111}\n",
      "3\n",
      "{'y': 35.7793827586207, 'ang': 71.88658327868852}\n",
      "4\n",
      "{'ang': 57.65636574444445}\n",
      "5\n",
      "{'ang': 0.6218805333333332}\n",
      "6\n",
      "{'ang': 11.971543666666667}\n",
      "7\n",
      "{'x': 1.8251996666666663, 'ang': 59.63356666666666}\n",
      "8\n",
      "{'x': 9.188319, 'ang': 45.354975}\n",
      "9\n",
      "{'y': 3.711468666666667, 'x': 121.88019999999999, 'ang': 167.62489785714286}\n",
      "10\n",
      "{'y': 4.7724408333333335, 'ang': 109.4583847435898}\n",
      "11\n",
      "{'y': 4.534171612903227, 'vel': 22.077650000000002, 'ang': 29.7401}\n",
      "12\n",
      "{'ang': 165.10487238888894}\n",
      "13\n",
      "{'ang': 8.059584500000001}\n",
      "14\n",
      "{'y': 51.19805294117647, 'ang': 452.7114287671232}\n"
     ]
    },
    {
     "data": {
      "image/png": "[encoded data removed]",
      "text/plain": [
       "<matplotlib.figure.Figure at 0x10e6c58d0>"
      ]
     },
     "metadata": {},
     "output_type": "display_data"
    }
   ],
   "source": [
    "num_gain=Gain_dict(f_compa,nnPos,'Pos')\n",
    "bar_gain(num_gain,f_compa,'Pos',nnPos)"
   ]
  }
 ],
 "metadata": {
  "kernelspec": {
   "display_name": "Python 2",
   "language": "python",
   "name": "python2"
  },
  "language_info": {
   "codemirror_mode": {
    "name": "ipython",
    "version": 2
   },
   "file_extension": ".py",
   "mimetype": "text/x-python",
   "name": "python",
   "nbconvert_exporter": "python",
   "pygments_lexer": "ipython2",
   "version": "2.7.12"
  }
 },
 "nbformat": 4,
 "nbformat_minor": 2
}
