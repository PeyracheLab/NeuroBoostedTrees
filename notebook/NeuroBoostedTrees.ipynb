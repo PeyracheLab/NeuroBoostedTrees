{
 "cells": [
  {
   "cell_type": "markdown",
   "metadata": {
    "deletable": true,
    "editable": true
   },
   "source": [
    "# Useful tools\n",
    "This notebook contains some usefull functions for further analysis. \n",
    "One tool to determine the goodness of prediction and the other tools to determine the feature importance in the prediction.\n",
    "This notebook was inspired by the one of the paper : Modern machine learning far outperforms GLMs at predicting spikes,   Benjamin et al, 2017\n",
    "## Table of content\n",
    "\n",
    "\n",
    "\n",
    "0. Load and transform data\n",
    "0. Looking at the prediction score\n",
    "0. Importance of features \n"
   ]
  },
  {
   "cell_type": "markdown",
   "metadata": {
    "deletable": true,
    "editable": true
   },
   "source": [
    "## Dependencies\n",
    "\n",
    "Basics\n",
    " - matplotlib\n",
    " - numpy\n",
    " - pandas\n",
    " - scipy\n",
    " - warnings\n",
    " - itertools\n",
    " \n",
    "Methods\n",
    " - xgboost\n",
    " "
   ]
  },
  {
   "cell_type": "code",
   "execution_count": 2,
   "metadata": {
    "collapsed": false,
    "deletable": true,
    "editable": true
   },
   "outputs": [],
   "source": [
    "import warnings\n",
    "import pandas as pd\n",
    "import scipy.io\n",
    "import numpy as np\n",
    "import sys, os\n",
    "import itertools\n"
   ]
  },
  {
   "cell_type": "markdown",
   "metadata": {
    "deletable": true,
    "editable": true
   },
   "source": [
    "\n",
    "### 1. Load and transform data\n",
    "\n",
    "The algorithm needs :\n",
    " - The data array X will be of dimensions (n, p), where n is the number of time bins and p is the number of covariates.\n",
    " - The response y will be of dimensions (n, 1).\n",
    " \n",
    " Transform your dataset.\n",
    " Below, please find an example of feature engineering"
   ]
  },
  {
   "cell_type": "code",
   "execution_count": 3,
   "metadata": {
    "collapsed": false,
    "deletable": true,
    "editable": true
   },
   "outputs": [],
   "source": [
    "# WRITE DIRECTORY HERE\n",
    "A_D = scipy.io.loadmat(os.path.expanduser('/Users/thomascortier/Documents/Stage_McGill/HDCellData/dico/data_test_PP20.mat'))"
   ]
  },
  {
   "cell_type": "markdown",
   "metadata": {
    "deletable": true,
    "editable": true
   },
   "source": [
    "#### Data engineering\n",
    "\n",
    "Different features : \n",
    " - angular direction of the animal head\n",
    " - x position of the animal \n",
    " - y position of the animal\n",
    " - speed of the animal"
   ]
  },
  {
   "cell_type": "code",
   "execution_count": 4,
   "metadata": {
    "collapsed": true,
    "deletable": true,
    "editable": true
   },
   "outputs": [],
   "source": [
    "data            =   pd.DataFrame()\n",
    "data['time']    =   np.arange(len(A_D['Ang']))      \n",
    "data['ang']     =   A_D['Ang'].flatten()            \n",
    "data['x']       =   A_D['X'].flatten()              \n",
    "data['y']       =   A_D['Y'].flatten()              \n",
    "data['vel']     =   A_D['speed'].flatten()\n"
   ]
  },
  {
   "cell_type": "markdown",
   "metadata": {
    "deletable": true,
    "editable": true
   },
   "source": [
    "Firing data"
   ]
  },
  {
   "cell_type": "code",
   "execution_count": 5,
   "metadata": {
    "collapsed": false,
    "deletable": true,
    "editable": true
   },
   "outputs": [],
   "source": [
    "for i in xrange(A_D['Pos'].shape[1]): data['Pos'+'.'+str(i)] = A_D['Pos'][:,i]\n",
    "for i in xrange(A_D['ADn'].shape[1]): data['ADn'+'.'+str(i)] = A_D['ADn'][:,i]\n",
    "nnPos= A_D['Pos'].shape[1]\n",
    "nnADn= A_D['ADn'].shape[1]"
   ]
  },
  {
   "cell_type": "markdown",
   "metadata": {
    "deletable": true,
    "editable": true
   },
   "source": [
    "### 2. Looking at the prediction score"
   ]
  },
  {
   "cell_type": "markdown",
   "metadata": {
    "deletable": true,
    "editable": true
   },
   "source": [
    "- Cross validation function\n",
    "\n",
    "The method fit_cv below returns a cross-validated pseudo-R2 score given data and an algorithm, here Xgboost."
   ]
  },
  {
   "cell_type": "code",
   "execution_count": 24,
   "metadata": {
    "collapsed": true,
    "deletable": true,
    "editable": true
   },
   "outputs": [],
   "source": [
    "from sklearn.model_selection import KFold\n",
    "\n",
    "\n",
    "def poisson_pseudoR2(y, yhat, ynull):\n",
    "    # This is our scoring function. Implements pseudo-R2\n",
    "    yhat = yhat.reshape(y.shape)\n",
    "    eps = np.spacing(1)\n",
    "    L1 = np.sum(y*np.log(eps+yhat) - yhat)\n",
    "    L1_v = y*np.log(eps+yhat) - yhat\n",
    "    L0 = np.sum(y*np.log(eps+ynull) - ynull)\n",
    "    LS = np.sum(y*np.log(eps+y) - y)\n",
    "    R2 = 1-(LS-L1)/(LS-L0)\n",
    "    return R2\n",
    "\n",
    "def fit_cv(X, Y, algorithm,params= {'objective': \"count:poisson\", \n",
    "        'eval_metric': \"logloss\", \n",
    "        'seed': 2925, \n",
    "        'silent': 1,\n",
    "        'learning_rate': 0.05,\n",
    "        'min_child_weight': 2, 'n_estimators': 580,\n",
    "        'subsample': 0.6, 'max_depth': 5, 'gamma': 0.4} ,num_round=100, n_cv=10, verbose=1):\n",
    "    \"\"\"Performs cross-validated fitting. Returns (Y_hat, pR2_cv); a vector of predictions Y_hat with the\n",
    "    same dimensions as Y, and a list of pR2 scores on each fold pR2_cv.\n",
    "    \n",
    "    X  = input data\n",
    "    Y = spiking data\n",
    "    algorithm = a function of (Xr, Yr, Xt) {training data Xr and response Yr and testing features Xt}\n",
    "                and returns the predicted response Yt\n",
    "    n_cv = number of cross-validations folds\n",
    "    \n",
    "    \"\"\"\n",
    "    if np.ndim(X)==1:\n",
    "        X = np.transpose(np.atleast_2d(X))\n",
    "\n",
    "    cv_kf = KFold(n_splits=n_cv, shuffle=True, random_state=42)\n",
    "    skf  = cv_kf.split(X)\n",
    "\n",
    "    i=1\n",
    "    Y_hat=np.zeros(len(Y))\n",
    "    pR2_cv = list()\n",
    "    for idx_r, idx_t in skf:\n",
    "        if verbose > 1:\n",
    "            print( '...runnning cv-fold', i, 'of', n_cv)\n",
    "        i+=1\n",
    "        Xr = X[idx_r, :]\n",
    "        Yr = Y[idx_r]\n",
    "        Xt = X[idx_t, :]\n",
    "        Yt = Y[idx_t]\n",
    "\n",
    "        Yt_hat = eval(algorithm)(Xr, Yr, Xt, params,num_round)\n",
    "        Y_hat[idx_t] = Yt_hat\n",
    "\n",
    "        pR2 = poisson_pseudoR2(Yt, Yt_hat, np.mean(Yr))\n",
    "        pR2_cv.append(pR2)\n",
    "\n",
    "        if verbose > 1:\n",
    "            print( 'pR2: ', pR2)\n",
    "\n",
    "    if verbose > 0:\n",
    "        print(\"pR2_cv: %0.6f (+/- %0.6f)\" % (np.mean(pR2_cv),\n",
    "                                             np.std(pR2_cv)/np.sqrt(n_cv)))\n",
    "\n",
    "    return Y_hat, pR2_cv\n",
    "\n"
   ]
  },
  {
   "cell_type": "markdown",
   "metadata": {
    "deletable": true,
    "editable": true
   },
   "source": [
    "- Model function which trains the model with the given data and return a prediction. "
   ]
  },
  {
   "cell_type": "code",
   "execution_count": 25,
   "metadata": {
    "collapsed": true,
    "deletable": true,
    "editable": true
   },
   "outputs": [],
   "source": [
    "import xgboost as xgb\n",
    "def xgb_run(Xr, Yr, Xt,params= {'objective': \"count:poisson\", \n",
    "        'eval_metric': \"logloss\", \n",
    "        'seed': 2925, \n",
    "        'silent': 1,\n",
    "        'learning_rate': 0.05,\n",
    "        'min_child_weight': 2, 'n_estimators': 580,\n",
    "        'subsample': 0.6, 'max_depth': 5, 'gamma': 0.4}   ,num_round=100):\n",
    "        \n",
    "\n",
    "        dtrain = xgb.DMatrix(Xr, label=Yr)\n",
    "        dtest = xgb.DMatrix(Xt)\n",
    "\n",
    "        num_round = num_round\n",
    "        bst = xgb.train(params, dtrain, num_round)\n",
    "\n",
    "        Yt = bst.predict(dtest)\n",
    "        return Yt"
   ]
  },
  {
   "cell_type": "markdown",
   "metadata": {
    "deletable": true,
    "editable": true
   },
   "source": [
    "- Function which returns the predicted result with the training features and targets."
   ]
  },
  {
   "cell_type": "code",
   "execution_count": 26,
   "metadata": {
    "collapsed": false,
    "deletable": true,
    "editable": true
   },
   "outputs": [],
   "source": [
    "def pR2(X,nn,ta,n_trees=100,depth=5):\n",
    "    params = {'objective': \"count:poisson\", #for poisson output\n",
    "        'eval_metric': \"logloss\", #loglikelihood loss\n",
    "        'seed': 2925, #for reproducibility\n",
    "        'silent': 1,\n",
    "        'learning_rate': 0.05,\n",
    "        'min_child_weight': 2, 'n_estimators': 580,\n",
    "        'subsample': 0.6, 'max_depth': n_trees, 'gamma': 0.4}   \n",
    "    pR2_dict=dict()\n",
    "    pR2=[]\n",
    "    for i in range(nnPos):\n",
    "        pR2.append(fit_cv(X,data[ta+'.'+str(i)].values,'xgb_run', params,n_trees, n_cv=8, verbose=1)[1])\n",
    "        pR2_dict[ta+'.'+str(i)]=pR2[-1]\n",
    "    pR2=np.array(pR2)\n",
    "    return pR2_dict, np.mean(pR2) , np.std(pR2)/np.sqrt(np.size(pR2))\n",
    "        \n",
    "    \n",
    "    "
   ]
  },
  {
   "cell_type": "code",
   "execution_count": 27,
   "metadata": {
    "collapsed": false,
    "deletable": true,
    "editable": true
   },
   "outputs": [
    {
     "name": "stdout",
     "output_type": "stream",
     "text": [
      "pR2_cv: 0.511110 (+/- 0.001986)\n",
      "pR2_cv: 0.685793 (+/- 0.001061)\n",
      "pR2_cv: 0.857749 (+/- 0.000570)\n",
      "pR2_cv: 0.882835 (+/- 0.000609)\n",
      "pR2_cv: 0.037151 (+/- 0.007354)\n",
      "pR2_cv: 0.710133 (+/- 0.001056)\n",
      "pR2_cv: -0.750330 (+/- 0.010837)\n",
      "pR2_cv: -0.429668 (+/- 0.012449)\n",
      "pR2_cv: 0.796270 (+/- 0.001184)\n",
      "pR2_cv: -0.397414 (+/- 0.006525)\n",
      "pR2_cv: 0.755749 (+/- 0.001704)\n",
      "pR2_cv: 0.253879 (+/- 0.002407)\n",
      "pR2_cv: 0.253063 (+/- 0.002657)\n",
      "pR2_cv: 0.671161 (+/- 0.001320)\n",
      "pR2_cv: 0.463002 (+/- 0.001348)\n",
      "(0.35336543166030432, 0.045865656444763266)\n"
     ]
    }
   ],
   "source": [
    "print(pR2(data[['ang','x','y','vel']].values,nnADn,'ADn')[1:])"
   ]
  },
  {
   "cell_type": "markdown",
   "metadata": {
    "deletable": true,
    "editable": true
   },
   "source": [
    "### 2. Looking at feature importance"
   ]
  },
  {
   "cell_type": "markdown",
   "metadata": {
    "deletable": true,
    "editable": true
   },
   "source": [
    "#### a. Using p-R2 score per feature"
   ]
  },
  {
   "cell_type": "markdown",
   "metadata": {
    "deletable": true,
    "editable": true
   },
   "source": [
    "- create the function to plot the feature importance"
   ]
  },
  {
   "cell_type": "code",
   "execution_count": 35,
   "metadata": {
    "collapsed": true,
    "deletable": true,
    "editable": true
   },
   "outputs": [],
   "source": [
    "def bar_R2(R2_dict,f_compa,ta,nn):\n",
    "    labels=[]\n",
    "    mean=[]\n",
    "    sem=[]\n",
    "    a=0\n",
    "    for l in f_compa.columns:\n",
    "        K=np.zeros(nn)\n",
    "        for i in range(nn):\n",
    "            K[i]=np.mean(R2_dict[ta+'.'+str(i)][l])\n",
    "        mean.append(np.mean(K))\n",
    "        sem.append(np.std(K)/np.sqrt(np.size(K)))\n",
    "        labels.append(l)\n",
    "        a=a+1\n",
    "    plt.bar(np.arange(np.size(mean)),mean, 0.8, align='center',\n",
    "                    ecolor='k', alpha=.9, color='red', ec='w',yerr = sem ,\n",
    "                    tick_label=labels)\n",
    "    plt.plot(np.arange(np.size(mean)), mean, 'k.', markersize=15)\n",
    "    plt.ylabel('Pseudo_R2')\n",
    "    plt.show()"
   ]
  },
  {
   "cell_type": "markdown",
   "metadata": {
    "deletable": true,
    "editable": true
   },
   "source": [
    "- Create the array with the features to compare"
   ]
  },
  {
   "cell_type": "code",
   "execution_count": 9,
   "metadata": {
    "collapsed": true,
    "deletable": true,
    "editable": true
   },
   "outputs": [],
   "source": [
    "f_compa=data[[ 'ang', 'x', 'y', 'vel']]\n"
   ]
  },
  {
   "cell_type": "markdown",
   "metadata": {
    "deletable": true,
    "editable": true
   },
   "source": [
    "- Function to create the dictionnary with the results for different neurons of one session. "
   ]
  },
  {
   "cell_type": "code",
   "execution_count": 36,
   "metadata": {
    "collapsed": false,
    "deletable": true,
    "editable": true
   },
   "outputs": [],
   "source": [
    "def comp_R2(f_compa,nn,ta,n_trees=50,depth=5):\n",
    "    params = {'objective': \"count:poisson\", #for poisson output\n",
    "        'eval_metric': \"logloss\", #loglikelihood loss\n",
    "        'seed': 2925, #for reproducibility\n",
    "        'silent': 1,\n",
    "        'learning_rate': 0.05,\n",
    "        'min_child_weight': 2, 'n_estimators': 580,\n",
    "        'subsample': 0.6, 'max_depth': n_trees, 'gamma': 0.4}   \n",
    "    R2_dict=dict()\n",
    "    for i in range(nn):\n",
    "        print(i)\n",
    "        R2_dict[ta+'.'+str(i)]=dict()\n",
    "        for keys in f_compa.columns:\n",
    "            R2_dict[ta+'.'+str(i)][keys]=fit_cv(f_compa[keys].values,data[ta+'.'+str(i)].values,'xgb_run',params,n_trees, n_cv=8, verbose=1)[1]\n",
    "    return R2_dict\n",
    "\n"
   ]
  },
  {
   "cell_type": "code",
   "execution_count": null,
   "metadata": {
    "collapsed": false,
    "deletable": true,
    "editable": true
   },
   "outputs": [
    {
     "name": "stdout",
     "output_type": "stream",
     "text": [
      "0\n",
      "pR2_cv: 0.320640 (+/- 0.002164)\n",
      "pR2_cv: 0.107286 (+/- 0.001905)\n",
      "pR2_cv: 0.054016 (+/- 0.001395)\n",
      "pR2_cv: 0.002525 (+/- 0.001126)\n",
      "1\n",
      "pR2_cv: 0.311384 (+/- 0.002595)\n",
      "pR2_cv: 0.076674 (+/- 0.002462)\n",
      "pR2_cv: 0.058048 (+/- 0.002629)\n",
      "pR2_cv: -0.000094 (+/- 0.000838)\n",
      "2\n",
      "pR2_cv: 0.474184 (+/- 0.003484)\n",
      "pR2_cv: 0.221788 (+/- 0.003022)\n",
      "pR2_cv: 0.123434 (+/- 0.002846)\n",
      "pR2_cv: 0.005792 (+/- 0.001005)\n",
      "3\n",
      "pR2_cv: 0.515440 (+/- 0.002409)\n",
      "pR2_cv: 0.162379 (+/- 0.003947)\n",
      "pR2_cv: 0.154952 (+/- 0.002447)\n",
      "pR2_cv: 0.002363 (+/- 0.000529)\n",
      "4\n",
      "pR2_cv: 0.476049 (+/- 0.002651)\n",
      "pR2_cv: 0.071112 (+/- 0.001641)\n",
      "pR2_cv: 0.123703 (+/- 0.001790)\n",
      "pR2_cv: 0.003311 (+/- 0.000636)\n",
      "5\n",
      "pR2_cv: 0.026449 (+/- 0.002820)\n",
      "pR2_cv: -0.057542 (+/- 0.002879)\n",
      "pR2_cv: -0.045759 (+/- 0.002685)\n",
      "pR2_cv: -0.040627 (+/- 0.003119)\n",
      "6\n"
     ]
    }
   ],
   "source": [
    "R2_dict=comp_R2(f_compa,nnPos,'Pos')\n",
    "bar_R2(R2_dict,f_compa,ta,nn)"
   ]
  },
  {
   "cell_type": "markdown",
   "metadata": {
    "deletable": true,
    "editable": true
   },
   "source": [
    "#### b. Looking at the split structure\n",
    "\n",
    "- Function Spl to create a dictionay with the number of splits for each feature"
   ]
  },
  {
   "cell_type": "code",
   "execution_count": 15,
   "metadata": {
    "collapsed": false,
    "deletable": true,
    "editable": true
   },
   "outputs": [],
   "source": [
    "import xgboost as xgb\n",
    "import matplotlib.pyplot as plt\n",
    "\n",
    "def Spl(X,y,n_trees=30,depth=2):\n",
    "    params = {'objective': \"count:poisson\", #for poisson output\n",
    "        'eval_metric': \"logloss\", #loglikelihood loss\n",
    "        'seed': 2925, #for reproducibility\n",
    "        'silent': 1,\n",
    "        'learning_rate': 0.05,\n",
    "        'min_child_weight': 0.1, 'n_estimators': 580,\n",
    "        'subsample': 0.6, 'max_depth': depth, 'gamma': 0.4}  \n",
    "\n",
    "    dtrain = xgb.DMatrix(X.values, label=y)\n",
    "    num_round = n_trees\n",
    "    bst = xgb.train(params, dtrain, num_round)\n",
    "\n",
    "    Sp=extract_tree_threshold(bst)\n",
    "    return Sp\n",
    "\n",
    "def extract_tree_threshold(trees):\n",
    "    n = len(trees.get_dump())\n",
    "    thr = {}\n",
    "    for t in range(n):\n",
    "        gv = xgb.to_graphviz(trees, num_trees=t)\n",
    "        body = gv.body\n",
    "        for i in range(len(body)):\n",
    "            for l in body[i].split('\"'):\n",
    "                if 'f' in l and '<' in l:\n",
    "                    tmp = l.split(\"<\")\n",
    "                    if tmp[0] in thr:\n",
    "                        thr[tmp[0]].append(float(tmp[1]))\n",
    "                    else:\n",
    "                        thr[tmp[0]] = [float(tmp[1])]\n",
    "    for k in thr.keys():\n",
    "        thr[k] = np.sort(np.array(thr[k]))\n",
    "    return thr\n",
    "\n"
   ]
  },
  {
   "cell_type": "markdown",
   "metadata": {
    "deletable": true,
    "editable": true
   },
   "source": [
    "- Function to plot the score distribution"
   ]
  },
  {
   "cell_type": "code",
   "execution_count": null,
   "metadata": {
    "collapsed": true,
    "deletable": true,
    "editable": true
   },
   "outputs": [],
   "source": [
    "def bar_split(num_split,f_compa,ta,nn):\n",
    "    labels=[]\n",
    "    mean=[]\n",
    "    sem=[]\n",
    "    a=0\n",
    "    for l in f_compa.columns:\n",
    "        K=np.zeros(nn)\n",
    "        for i in range(nn):\n",
    "            if 'f'+str(a) in num_split[ta+'.'+str(i)].keys():\n",
    "                K[i]=np.size(num_split[ta+'.'+str(i)]['f'+str(a)])\n",
    "        mean.append(np.mean(K))\n",
    "        sem.append(np.std(K)/np.sqrt(np.size(K)))\n",
    "        labels.append(l)\n",
    "        a=a+1\n",
    "    plt.bar(np.arange(np.size(mean)),mean, 0.8, align='center',\n",
    "                    ecolor='k', alpha=.9, color='red', ec='w',yerr = sem ,\n",
    "                    tick_label=labels)\n",
    "    plt.plot(np.arange(np.size(mean)), mean, 'k.', markersize=15)\n",
    "    plt.ylabel('Number of splits')\n",
    "    plt.show()"
   ]
  },
  {
   "cell_type": "markdown",
   "metadata": {
    "deletable": true,
    "editable": true
   },
   "source": [
    "- Create the array with the features to compare"
   ]
  },
  {
   "cell_type": "code",
   "execution_count": 10,
   "metadata": {
    "collapsed": true,
    "deletable": true,
    "editable": true
   },
   "outputs": [],
   "source": [
    "f_compa=data[[ 'ang', 'x', 'y', 'vel']]\n"
   ]
  },
  {
   "cell_type": "markdown",
   "metadata": {
    "deletable": true,
    "editable": true
   },
   "source": [
    "- Create the dictionary  with the number of split distribution for each neuron"
   ]
  },
  {
   "cell_type": "code",
   "execution_count": 17,
   "metadata": {
    "collapsed": false,
    "deletable": true,
    "editable": true
   },
   "outputs": [],
   "source": [
    "def Split_dict(f_compa,nn,ta,n_trees=30,depth=2):\n",
    "    num_split=dict()\n",
    "    for i in range(nn):\n",
    "        print(i)\n",
    "        num_split[ta+'.'+str(i)]=Spl(f_compa,data[ta+'.'+str(i)].values,n_trees,depth)\n",
    "    return num_split"
   ]
  },
  {
   "cell_type": "markdown",
   "metadata": {
    "deletable": true,
    "editable": true
   },
   "source": [
    "- Plot the split distribution"
   ]
  },
  {
   "cell_type": "code",
   "execution_count": 18,
   "metadata": {
    "collapsed": false,
    "deletable": true,
    "editable": true,
    "scrolled": true
   },
   "outputs": [
    {
     "data": {
      "image/png": "[encoded data removed]",
      "text/plain": [
       "<matplotlib.figure.Figure at 0x10e839f90>"
      ]
     },
     "metadata": {},
     "output_type": "display_data"
    }
   ],
   "source": [
    "num_split=Split_dict(f_compa,nnPos,'Pos')\n",
    "bar_split(num_split,f_compa,'Pos',nnPos)\n"
   ]
  },
  {
   "cell_type": "markdown",
   "metadata": {
    "deletable": true,
    "editable": true
   },
   "source": [
    "#### c. Looking at the gain for feature importance\n",
    "\n",
    "- Function to plot the gain repartition between features"
   ]
  },
  {
   "cell_type": "code",
   "execution_count": 33,
   "metadata": {
    "collapsed": true,
    "deletable": true,
    "editable": true
   },
   "outputs": [],
   "source": [
    "def bar_gain(num_gain,f_compa,ta,nn):\n",
    "    labels=[]\n",
    "    mean=[]\n",
    "    sem=[]\n",
    "    for l in f_compa.columns:\n",
    "        K=np.zeros(nn)\n",
    "        for i in range(nn):\n",
    "            if l in num_gain[ta+'.'+str(i)].keys():\n",
    "                K[i]=np.sum(num_gain[ta+'.'+str(i)][l])\n",
    "        mean.append(np.mean(K))\n",
    "        sem.append(np.std(K)/np.sqrt(np.size(K)))\n",
    "        labels.append(l)\n",
    "    plt.bar(np.arange(np.size(mean)),mean, 0.8, align='center',\n",
    "                    ecolor='k', alpha=.9, color='red', ec='w',yerr = sem ,\n",
    "                    tick_label=labels)\n",
    "    plt.plot(np.arange(np.size(mean)), mean, 'k.', markersize=15)\n",
    "    plt.ylabel('Gain')\n",
    "    plt.show()"
   ]
  },
  {
   "cell_type": "markdown",
   "metadata": {
    "deletable": true,
    "editable": true
   },
   "source": [
    "- Function to create de dictionary with the gain distribution between features"
   ]
  },
  {
   "cell_type": "code",
   "execution_count": 20,
   "metadata": {
    "collapsed": true,
    "deletable": true,
    "editable": true
   },
   "outputs": [],
   "source": [
    "def gain(X,Y,n_trees=30,depth=2):\n",
    "    params = {'objective': \"count:poisson\", #for poisson output\n",
    "    'eval_metric': \"logloss\", #loglikelihood loss\n",
    "    'seed': 2925, #for reproducibility\n",
    "    'silent': 1,\n",
    "    'learning_rate': 0.05,\n",
    "    'min_child_weight': 0, 'n_estimators': 580,\n",
    "    'subsample': 0.6, 'max_depth': depth , 'gamma': 0.4}  \n",
    "\n",
    "    dtrain = xgb.DMatrix(X,Y)     \n",
    "    bst = xgb.train(params, dtrain, n_trees)\n",
    "    return bst.get_score(importance_type = 'gain')"
   ]
  },
  {
   "cell_type": "markdown",
   "metadata": {
    "deletable": true,
    "editable": true
   },
   "source": [
    "- The gain result for each neuron"
   ]
  },
  {
   "cell_type": "code",
   "execution_count": 29,
   "metadata": {
    "collapsed": true,
    "deletable": true,
    "editable": true
   },
   "outputs": [],
   "source": [
    "def Gain_dict(f_compa,nn,ta,n_trees=30,depth=5):\n",
    "    num_gain=dict()\n",
    "    for i in range(nn):\n",
    "        print(i)\n",
    "        num_gain[ta+'.'+str(i)]=gain(f_compa,data[ta+'.'+str(i)].values)\n",
    "    return num_gain"
   ]
  },
  {
   "cell_type": "markdown",
   "metadata": {
    "deletable": true,
    "editable": true
   },
   "source": [
    "- Plot the result"
   ]
  },
  {
   "cell_type": "code",
   "execution_count": 34,
   "metadata": {
    "collapsed": false,
    "deletable": true,
    "editable": true
   },
   "outputs": [
    {
     "name": "stdout",
     "output_type": "stream",
     "text": [
      "0\n",
      "{'y': 5.308505555555554, 'x': 5.55528, 'ang': 33.51814666666667}\n",
      "1\n",
      "{'y': 28.426393333333337, 'ang': 23.460203333333332}\n",
      "2\n",
      "{'x': 16.681583000000003, 'ang': 59.1375811111111}\n",
      "3\n",
      "{'y': 35.7793827586207, 'ang': 71.88658327868852}\n",
      "4\n",
      "{'ang': 57.65636574444445}\n",
      "5\n",
      "{'ang': 0.6218805333333332}\n",
      "6\n",
      "{'ang': 11.971543666666667}\n",
      "7\n",
      "{'x': 1.8251996666666663, 'ang': 59.63356666666666}\n",
      "8\n",
      "{'x': 9.188319, 'ang': 45.354975}\n",
      "9\n",
      "{'y': 3.711468666666667, 'x': 121.88019999999999, 'ang': 167.62489785714286}\n",
      "10\n",
      "{'y': 4.7724408333333335, 'ang': 109.4583847435898}\n",
      "11\n",
      "{'y': 4.534171612903227, 'vel': 22.077650000000002, 'ang': 29.7401}\n",
      "12\n",
      "{'ang': 165.10487238888894}\n",
      "13\n",
      "{'ang': 8.059584500000001}\n",
      "14\n",
      "{'y': 51.19805294117647, 'ang': 452.7114287671232}\n"
     ]
    },
    {
     "data": {
      "image/png": "[encoded data removed]",
      "text/plain": [
       "<matplotlib.figure.Figure at 0x10e6c58d0>"
      ]
     },
     "metadata": {},
     "output_type": "display_data"
    }
   ],
   "source": [
    "num_gain=Gain_dict(f_compa,nnPos,'Pos')\n",
    "bar_gain(num_gain,f_compa,'Pos',nnPos)"
   ]
  }
 ],
 "metadata": {
  "kernelspec": {
   "display_name": "Python 2",
   "language": "python",
   "name": "python2"
  },
  "language_info": {
   "codemirror_mode": {
    "name": "ipython",
    "version": 2
   },
   "file_extension": ".py",
   "mimetype": "text/x-python",
   "name": "python",
   "nbconvert_exporter": "python",
   "pygments_lexer": "ipython2",
   "version": "2.7.13"
  }
 },
 "nbformat": 4,
 "nbformat_minor": 2
}
